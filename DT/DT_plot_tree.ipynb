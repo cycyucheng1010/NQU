{
  "nbformat": 4,
  "nbformat_minor": 0,
  "metadata": {
    "colab": {
      "name": "DT_plot_tree.ipynb",
      "provenance": []
    },
    "kernelspec": {
      "name": "python3",
      "display_name": "Python 3"
    }
  },
  "cells": [
    {
      "cell_type": "code",
      "metadata": {
        "colab": {
          "base_uri": "https://localhost:8080/"
        },
        "id": "oHmdgwArLcWn",
        "outputId": "15e67d87-7357-48cb-a394-c70a9d048e0f"
      },
      "source": [
        "pip install python-igraph"
      ],
      "execution_count": 1,
      "outputs": [
        {
          "output_type": "stream",
          "text": [
            "Collecting python-igraph\n",
            "\u001b[?25l  Downloading https://files.pythonhosted.org/packages/20/6e/3ac2fc339051f652d4a01570d133e4d15321aaec929ffb5f49a67852f8d9/python_igraph-0.8.3-cp36-cp36m-manylinux2010_x86_64.whl (3.2MB)\n",
            "\u001b[K     |████████████████████████████████| 3.2MB 11.5MB/s \n",
            "\u001b[?25hCollecting texttable>=1.6.2\n",
            "  Downloading https://files.pythonhosted.org/packages/06/f5/46201c428aebe0eecfa83df66bf3e6caa29659dbac5a56ddfd83cae0d4a4/texttable-1.6.3-py2.py3-none-any.whl\n",
            "Installing collected packages: texttable, python-igraph\n",
            "Successfully installed python-igraph-0.8.3 texttable-1.6.3\n"
          ],
          "name": "stdout"
        }
      ]
    },
    {
      "cell_type": "code",
      "metadata": {
        "colab": {
          "base_uri": "https://localhost:8080/"
        },
        "id": "a1sgh3vZLj7_",
        "outputId": "9aabcb59-9653-480a-ca2d-5e7df2fe329d"
      },
      "source": [
        "pip install plotly==4.14.1"
      ],
      "execution_count": 2,
      "outputs": [
        {
          "output_type": "stream",
          "text": [
            "Collecting plotly==4.14.1\n",
            "\u001b[?25l  Downloading https://files.pythonhosted.org/packages/c9/09/315462259ab7b60a3d4b7159233ed700733c87d889755bdc00a9fb46d692/plotly-4.14.1-py2.py3-none-any.whl (13.2MB)\n",
            "\u001b[K     |████████████████████████████████| 13.2MB 12.1MB/s \n",
            "\u001b[?25hRequirement already satisfied: six in /usr/local/lib/python3.6/dist-packages (from plotly==4.14.1) (1.15.0)\n",
            "Requirement already satisfied: retrying>=1.3.3 in /usr/local/lib/python3.6/dist-packages (from plotly==4.14.1) (1.3.3)\n",
            "Installing collected packages: plotly\n",
            "  Found existing installation: plotly 4.4.1\n",
            "    Uninstalling plotly-4.4.1:\n",
            "      Successfully uninstalled plotly-4.4.1\n",
            "Successfully installed plotly-4.14.1\n"
          ],
          "name": "stdout"
        }
      ]
    },
    {
      "cell_type": "code",
      "metadata": {
        "colab": {
          "base_uri": "https://localhost:8080/",
          "height": 542
        },
        "id": "1jUL2zezLmwD",
        "outputId": "b3b79006-003a-48d3-bb79-898c62ca4f0d"
      },
      "source": [
        "import igraph\r\n",
        "from igraph import Graph, EdgeSeq\r\n",
        "nr_vertices = 39\r\n",
        "v_label = list(map(str, range(nr_vertices)))\r\n",
        "G = Graph.Tree(nr_vertices, 2) # 2 stands for children number\r\n",
        "lay = G.layout('rt')\r\n",
        "\r\n",
        "position = {k: lay[k] for k in range(nr_vertices)}\r\n",
        "Y = [lay[k][1] for k in range(nr_vertices)]\r\n",
        "M = max(Y)\r\n",
        "\r\n",
        "es = EdgeSeq(G) # sequence of edges\r\n",
        "E = [e.tuple for e in G.es] # list of edges\r\n",
        "\r\n",
        "L = len(position)\r\n",
        "Xn = [position[k][0] for k in range(L)]\r\n",
        "Yn = [2*M-position[k][1] for k in range(L)]\r\n",
        "Xe = []\r\n",
        "Ye = []\r\n",
        "for edge in E:\r\n",
        "    Xe+=[position[edge[0]][0],position[edge[1]][0], None]\r\n",
        "    Ye+=[2*M-position[edge[0]][1],2*M-position[edge[1]][1], None]\r\n",
        "\r\n",
        "labels = v_label\r\n",
        "import plotly.graph_objects as go\r\n",
        "fig = go.Figure()\r\n",
        "fig.add_trace(go.Scatter(x=Xe,\r\n",
        "                   y=Ye,\r\n",
        "                   mode='lines',\r\n",
        "                   line=dict(color='rgb(210,210,210)', width=1),\r\n",
        "                   hoverinfo='none'\r\n",
        "                   ))\r\n",
        "fig.add_trace(go.Scatter(x=Xn,\r\n",
        "                  y=Yn,\r\n",
        "                  mode='markers',\r\n",
        "                  name='bla',\r\n",
        "                  marker=dict(symbol='circle-dot',\r\n",
        "                                size=18,\r\n",
        "                                color='#6175c1',    #'#DB4551',\r\n",
        "                                line=dict(color='rgb(50,50,50)', width=1)\r\n",
        "                                ),\r\n",
        "                  text=labels,\r\n",
        "                  hoverinfo='text',\r\n",
        "                  opacity=0.8\r\n",
        "                  ))\r\n",
        "import plotly.graph_objects as go\r\n",
        "fig = go.Figure()\r\n",
        "fig.add_trace(go.Scatter(x=Xe,\r\n",
        "                   y=Ye,\r\n",
        "                   mode='lines',\r\n",
        "                   line=dict(color='rgb(210,210,210)', width=1),\r\n",
        "                   hoverinfo='none'\r\n",
        "                   ))\r\n",
        "fig.add_trace(go.Scatter(x=Xn,\r\n",
        "                  y=Yn,\r\n",
        "                  mode='markers',\r\n",
        "                  name='bla',\r\n",
        "                  marker=dict(symbol='circle-dot',\r\n",
        "                                size=18,\r\n",
        "                                color='#6175c1',    #'#DB4551',\r\n",
        "                                line=dict(color='rgb(50,50,50)', width=1)\r\n",
        "                                ),\r\n",
        "                  text=labels,\r\n",
        "                  hoverinfo='text',\r\n",
        "                  opacity=0.8\r\n",
        "                  ))\r\n",
        "def make_annotations(pos, text, font_size=10, font_color='rgb(250,250,250)'):\r\n",
        "    L=len(pos)\r\n",
        "    if len(text)!=L:\r\n",
        "        raise ValueError('The lists pos and text must have the same len')\r\n",
        "    annotations = []\r\n",
        "    for k in range(L):\r\n",
        "        annotations.append(\r\n",
        "            dict(\r\n",
        "                text=labels[k], # or replace labels with a different list for the text within the circle\r\n",
        "                x=pos[k][0], y=2*M-position[k][1],\r\n",
        "                xref='x1', yref='y1',\r\n",
        "                font=dict(color=font_color, size=font_size),\r\n",
        "                showarrow=False)\r\n",
        "        )\r\n",
        "    return annotations\r\n",
        "\r\n",
        "axis = dict(showline=False, # hide axis line, grid, ticklabels and  title\r\n",
        "            zeroline=False,\r\n",
        "            showgrid=False,\r\n",
        "            showticklabels=False,\r\n",
        "            )\r\n",
        "\r\n",
        "fig.update_layout(title= 'Tree with Reingold-Tilford Layout',\r\n",
        "              annotations=make_annotations(position, v_label),\r\n",
        "              font_size=12,\r\n",
        "              showlegend=False,\r\n",
        "              xaxis=axis,\r\n",
        "              yaxis=axis,\r\n",
        "              margin=dict(l=40, r=40, b=85, t=100),\r\n",
        "              hovermode='closest',\r\n",
        "              plot_bgcolor='rgb(248,248,248)'\r\n",
        "              )\r\n",
        "fig.show()"
      ],
      "execution_count": 3,
      "outputs": [
        {
          "output_type": "display_data",
          "data": {
            "text/html": [
              "<html>\n",
              "<head><meta charset=\"utf-8\" /></head>\n",
              "<body>\n",
              "    <div>            <script src=\"https://cdnjs.cloudflare.com/ajax/libs/mathjax/2.7.5/MathJax.js?config=TeX-AMS-MML_SVG\"></script><script type=\"text/javascript\">if (window.MathJax) {MathJax.Hub.Config({SVG: {font: \"STIX-Web\"}});}</script>                <script type=\"text/javascript\">window.PlotlyConfig = {MathJaxConfig: 'local'};</script>\n",
              "        <script src=\"https://cdn.plot.ly/plotly-latest.min.js\"></script>                <div id=\"5eb9fa94-0f10-40e8-bed1-c9f10a96ab05\" class=\"plotly-graph-div\" style=\"height:525px; width:100%;\"></div>            <script type=\"text/javascript\">                                    window.PLOTLYENV=window.PLOTLYENV || {};                                    if (document.getElementById(\"5eb9fa94-0f10-40e8-bed1-c9f10a96ab05\")) {                    Plotly.newPlot(                        \"5eb9fa94-0f10-40e8-bed1-c9f10a96ab05\",                        [{\"hoverinfo\": \"none\", \"line\": {\"color\": \"rgb(210,210,210)\", \"width\": 1}, \"mode\": \"lines\", \"type\": \"scatter\", \"x\": [-7.375, -3.625, null, -7.375, -7.375, null, -3.625, 0.125, null, -3.625, -1.0, null, -7.375, -9.375, null, -7.375, -5.375, null, 0.125, -1.875, null, 0.125, 2.125, null, -1.0, 1.625, null, -1.0, 0.0, null, -9.375, -10.375, null, -9.375, -8.375, null, -5.375, -6.375, null, -5.375, -4.375, null, -1.875, -2.875, null, -1.875, -0.875, null, 2.125, 1.125, null, 2.125, 3.125, null, 1.625, 1.125, null, 1.625, 2.125, null, 0.0, 0.0, null, 0.0, 1.0, null, -10.375, -10.875, null, -10.375, -9.875, null, -8.375, -8.875, null, -8.375, -7.875, null, -6.375, -6.875, null, -6.375, -5.875, null, -4.375, -4.875, null, -4.375, -3.875, null, -2.875, -3.375, null, -2.875, -2.375, null, -0.875, -1.375, null, -0.875, -0.375, null, 1.125, 0.625, null, 1.125, 1.625, null, 3.125, 2.625, null, 3.125, 3.625, null], \"y\": [11.0, 12.0, null, 11.0, 10.0, null, 12.0, 11.0, null, 12.0, 13.0, null, 10.0, 9.0, null, 10.0, 9.0, null, 11.0, 10.0, null, 11.0, 10.0, null, 13.0, 12.0, null, 13.0, 14.0, null, 9.0, 8.0, null, 9.0, 8.0, null, 9.0, 8.0, null, 9.0, 8.0, null, 10.0, 9.0, null, 10.0, 9.0, null, 10.0, 9.0, null, 10.0, 9.0, null, 12.0, 11.0, null, 12.0, 11.0, null, 14.0, 13.0, null, 14.0, 13.0, null, 8.0, 7.0, null, 8.0, 7.0, null, 8.0, 7.0, null, 8.0, 7.0, null, 8.0, 7.0, null, 8.0, 7.0, null, 8.0, 7.0, null, 8.0, 7.0, null, 9.0, 8.0, null, 9.0, 8.0, null, 9.0, 8.0, null, 9.0, 8.0, null, 9.0, 8.0, null, 9.0, 8.0, null, 9.0, 8.0, null, 9.0, 8.0, null]}, {\"hoverinfo\": \"text\", \"marker\": {\"color\": \"#6175c1\", \"line\": {\"color\": \"rgb(50,50,50)\", \"width\": 1}, \"size\": 18, \"symbol\": \"circle-dot\"}, \"mode\": \"markers\", \"name\": \"bla\", \"opacity\": 0.8, \"text\": [\"0\", \"1\", \"2\", \"3\", \"4\", \"5\", \"6\", \"7\", \"8\", \"9\", \"10\", \"11\", \"12\", \"13\", \"14\", \"15\", \"16\", \"17\", \"18\", \"19\", \"20\", \"21\", \"22\", \"23\", \"24\", \"25\", \"26\", \"27\", \"28\", \"29\", \"30\", \"31\", \"32\", \"33\", \"34\", \"35\", \"36\", \"37\", \"38\"], \"type\": \"scatter\", \"x\": [-7.375, -3.625, -7.375, 0.125, -1.0, -9.375, -5.375, -1.875, 2.125, 1.625, 0.0, -10.375, -8.375, -6.375, -4.375, -2.875, -0.875, 1.125, 3.125, 1.125, 2.125, 0.0, 1.0, -10.875, -9.875, -8.875, -7.875, -6.875, -5.875, -4.875, -3.875, -3.375, -2.375, -1.375, -0.375, 0.625, 1.625, 2.625, 3.625], \"y\": [11.0, 12.0, 10.0, 11.0, 13.0, 9.0, 9.0, 10.0, 10.0, 12.0, 14.0, 8.0, 8.0, 8.0, 8.0, 9.0, 9.0, 9.0, 9.0, 11.0, 11.0, 13.0, 13.0, 7.0, 7.0, 7.0, 7.0, 7.0, 7.0, 7.0, 7.0, 8.0, 8.0, 8.0, 8.0, 8.0, 8.0, 8.0, 8.0]}],                        {\"annotations\": [{\"font\": {\"color\": \"rgb(250,250,250)\", \"size\": 10}, \"showarrow\": false, \"text\": \"0\", \"x\": -7.375, \"xref\": \"x\", \"y\": 11.0, \"yref\": \"y\"}, {\"font\": {\"color\": \"rgb(250,250,250)\", \"size\": 10}, \"showarrow\": false, \"text\": \"1\", \"x\": -3.625, \"xref\": \"x\", \"y\": 12.0, \"yref\": \"y\"}, {\"font\": {\"color\": \"rgb(250,250,250)\", \"size\": 10}, \"showarrow\": false, \"text\": \"2\", \"x\": -7.375, \"xref\": \"x\", \"y\": 10.0, \"yref\": \"y\"}, {\"font\": {\"color\": \"rgb(250,250,250)\", \"size\": 10}, \"showarrow\": false, \"text\": \"3\", \"x\": 0.125, \"xref\": \"x\", \"y\": 11.0, \"yref\": \"y\"}, {\"font\": {\"color\": \"rgb(250,250,250)\", \"size\": 10}, \"showarrow\": false, \"text\": \"4\", \"x\": -1.0, \"xref\": \"x\", \"y\": 13.0, \"yref\": \"y\"}, {\"font\": {\"color\": \"rgb(250,250,250)\", \"size\": 10}, \"showarrow\": false, \"text\": \"5\", \"x\": -9.375, \"xref\": \"x\", \"y\": 9.0, \"yref\": \"y\"}, {\"font\": {\"color\": \"rgb(250,250,250)\", \"size\": 10}, \"showarrow\": false, \"text\": \"6\", \"x\": -5.375, \"xref\": \"x\", \"y\": 9.0, \"yref\": \"y\"}, {\"font\": {\"color\": \"rgb(250,250,250)\", \"size\": 10}, \"showarrow\": false, \"text\": \"7\", \"x\": -1.875, \"xref\": \"x\", \"y\": 10.0, \"yref\": \"y\"}, {\"font\": {\"color\": \"rgb(250,250,250)\", \"size\": 10}, \"showarrow\": false, \"text\": \"8\", \"x\": 2.125, \"xref\": \"x\", \"y\": 10.0, \"yref\": \"y\"}, {\"font\": {\"color\": \"rgb(250,250,250)\", \"size\": 10}, \"showarrow\": false, \"text\": \"9\", \"x\": 1.625, \"xref\": \"x\", \"y\": 12.0, \"yref\": \"y\"}, {\"font\": {\"color\": \"rgb(250,250,250)\", \"size\": 10}, \"showarrow\": false, \"text\": \"10\", \"x\": 0.0, \"xref\": \"x\", \"y\": 14.0, \"yref\": \"y\"}, {\"font\": {\"color\": \"rgb(250,250,250)\", \"size\": 10}, \"showarrow\": false, \"text\": \"11\", \"x\": -10.375, \"xref\": \"x\", \"y\": 8.0, \"yref\": \"y\"}, {\"font\": {\"color\": \"rgb(250,250,250)\", \"size\": 10}, \"showarrow\": false, \"text\": \"12\", \"x\": -8.375, \"xref\": \"x\", \"y\": 8.0, \"yref\": \"y\"}, {\"font\": {\"color\": \"rgb(250,250,250)\", \"size\": 10}, \"showarrow\": false, \"text\": \"13\", \"x\": -6.375, \"xref\": \"x\", \"y\": 8.0, \"yref\": \"y\"}, {\"font\": {\"color\": \"rgb(250,250,250)\", \"size\": 10}, \"showarrow\": false, \"text\": \"14\", \"x\": -4.375, \"xref\": \"x\", \"y\": 8.0, \"yref\": \"y\"}, {\"font\": {\"color\": \"rgb(250,250,250)\", \"size\": 10}, \"showarrow\": false, \"text\": \"15\", \"x\": -2.875, \"xref\": \"x\", \"y\": 9.0, \"yref\": \"y\"}, {\"font\": {\"color\": \"rgb(250,250,250)\", \"size\": 10}, \"showarrow\": false, \"text\": \"16\", \"x\": -0.875, \"xref\": \"x\", \"y\": 9.0, \"yref\": \"y\"}, {\"font\": {\"color\": \"rgb(250,250,250)\", \"size\": 10}, \"showarrow\": false, \"text\": \"17\", \"x\": 1.125, \"xref\": \"x\", \"y\": 9.0, \"yref\": \"y\"}, {\"font\": {\"color\": \"rgb(250,250,250)\", \"size\": 10}, \"showarrow\": false, \"text\": \"18\", \"x\": 3.125, \"xref\": \"x\", \"y\": 9.0, \"yref\": \"y\"}, {\"font\": {\"color\": \"rgb(250,250,250)\", \"size\": 10}, \"showarrow\": false, \"text\": \"19\", \"x\": 1.125, \"xref\": \"x\", \"y\": 11.0, \"yref\": \"y\"}, {\"font\": {\"color\": \"rgb(250,250,250)\", \"size\": 10}, \"showarrow\": false, \"text\": \"20\", \"x\": 2.125, \"xref\": \"x\", \"y\": 11.0, \"yref\": \"y\"}, {\"font\": {\"color\": \"rgb(250,250,250)\", \"size\": 10}, \"showarrow\": false, \"text\": \"21\", \"x\": 0.0, \"xref\": \"x\", \"y\": 13.0, \"yref\": \"y\"}, {\"font\": {\"color\": \"rgb(250,250,250)\", \"size\": 10}, \"showarrow\": false, \"text\": \"22\", \"x\": 1.0, \"xref\": \"x\", \"y\": 13.0, \"yref\": \"y\"}, {\"font\": {\"color\": \"rgb(250,250,250)\", \"size\": 10}, \"showarrow\": false, \"text\": \"23\", \"x\": -10.875, \"xref\": \"x\", \"y\": 7.0, \"yref\": \"y\"}, {\"font\": {\"color\": \"rgb(250,250,250)\", \"size\": 10}, \"showarrow\": false, \"text\": \"24\", \"x\": -9.875, \"xref\": \"x\", \"y\": 7.0, \"yref\": \"y\"}, {\"font\": {\"color\": \"rgb(250,250,250)\", \"size\": 10}, \"showarrow\": false, \"text\": \"25\", \"x\": -8.875, \"xref\": \"x\", \"y\": 7.0, \"yref\": \"y\"}, {\"font\": {\"color\": \"rgb(250,250,250)\", \"size\": 10}, \"showarrow\": false, \"text\": \"26\", \"x\": -7.875, \"xref\": \"x\", \"y\": 7.0, \"yref\": \"y\"}, {\"font\": {\"color\": \"rgb(250,250,250)\", \"size\": 10}, \"showarrow\": false, \"text\": \"27\", \"x\": -6.875, \"xref\": \"x\", \"y\": 7.0, \"yref\": \"y\"}, {\"font\": {\"color\": \"rgb(250,250,250)\", \"size\": 10}, \"showarrow\": false, \"text\": \"28\", \"x\": -5.875, \"xref\": \"x\", \"y\": 7.0, \"yref\": \"y\"}, {\"font\": {\"color\": \"rgb(250,250,250)\", \"size\": 10}, \"showarrow\": false, \"text\": \"29\", \"x\": -4.875, \"xref\": \"x\", \"y\": 7.0, \"yref\": \"y\"}, {\"font\": {\"color\": \"rgb(250,250,250)\", \"size\": 10}, \"showarrow\": false, \"text\": \"30\", \"x\": -3.875, \"xref\": \"x\", \"y\": 7.0, \"yref\": \"y\"}, {\"font\": {\"color\": \"rgb(250,250,250)\", \"size\": 10}, \"showarrow\": false, \"text\": \"31\", \"x\": -3.375, \"xref\": \"x\", \"y\": 8.0, \"yref\": \"y\"}, {\"font\": {\"color\": \"rgb(250,250,250)\", \"size\": 10}, \"showarrow\": false, \"text\": \"32\", \"x\": -2.375, \"xref\": \"x\", \"y\": 8.0, \"yref\": \"y\"}, {\"font\": {\"color\": \"rgb(250,250,250)\", \"size\": 10}, \"showarrow\": false, \"text\": \"33\", \"x\": -1.375, \"xref\": \"x\", \"y\": 8.0, \"yref\": \"y\"}, {\"font\": {\"color\": \"rgb(250,250,250)\", \"size\": 10}, \"showarrow\": false, \"text\": \"34\", \"x\": -0.375, \"xref\": \"x\", \"y\": 8.0, \"yref\": \"y\"}, {\"font\": {\"color\": \"rgb(250,250,250)\", \"size\": 10}, \"showarrow\": false, \"text\": \"35\", \"x\": 0.625, \"xref\": \"x\", \"y\": 8.0, \"yref\": \"y\"}, {\"font\": {\"color\": \"rgb(250,250,250)\", \"size\": 10}, \"showarrow\": false, \"text\": \"36\", \"x\": 1.625, \"xref\": \"x\", \"y\": 8.0, \"yref\": \"y\"}, {\"font\": {\"color\": \"rgb(250,250,250)\", \"size\": 10}, \"showarrow\": false, \"text\": \"37\", \"x\": 2.625, \"xref\": \"x\", \"y\": 8.0, \"yref\": \"y\"}, {\"font\": {\"color\": \"rgb(250,250,250)\", \"size\": 10}, \"showarrow\": false, \"text\": \"38\", \"x\": 3.625, \"xref\": \"x\", \"y\": 8.0, \"yref\": \"y\"}], \"font\": {\"size\": 12}, \"hovermode\": \"closest\", \"margin\": {\"b\": 85, \"l\": 40, \"r\": 40, \"t\": 100}, \"plot_bgcolor\": \"rgb(248,248,248)\", \"showlegend\": false, \"template\": {\"data\": {\"bar\": [{\"error_x\": {\"color\": \"#2a3f5f\"}, \"error_y\": {\"color\": \"#2a3f5f\"}, \"marker\": {\"line\": {\"color\": \"#E5ECF6\", \"width\": 0.5}}, \"type\": \"bar\"}], \"barpolar\": [{\"marker\": {\"line\": {\"color\": \"#E5ECF6\", \"width\": 0.5}}, \"type\": \"barpolar\"}], \"carpet\": [{\"aaxis\": {\"endlinecolor\": \"#2a3f5f\", \"gridcolor\": \"white\", \"linecolor\": \"white\", \"minorgridcolor\": \"white\", \"startlinecolor\": \"#2a3f5f\"}, \"baxis\": {\"endlinecolor\": \"#2a3f5f\", \"gridcolor\": \"white\", \"linecolor\": \"white\", \"minorgridcolor\": \"white\", \"startlinecolor\": \"#2a3f5f\"}, \"type\": \"carpet\"}], \"choropleth\": [{\"colorbar\": {\"outlinewidth\": 0, \"ticks\": \"\"}, \"type\": \"choropleth\"}], \"contour\": [{\"colorbar\": {\"outlinewidth\": 0, \"ticks\": \"\"}, \"colorscale\": [[0.0, \"#0d0887\"], [0.1111111111111111, \"#46039f\"], [0.2222222222222222, \"#7201a8\"], [0.3333333333333333, \"#9c179e\"], [0.4444444444444444, \"#bd3786\"], [0.5555555555555556, \"#d8576b\"], [0.6666666666666666, \"#ed7953\"], [0.7777777777777778, \"#fb9f3a\"], [0.8888888888888888, \"#fdca26\"], [1.0, \"#f0f921\"]], \"type\": \"contour\"}], \"contourcarpet\": [{\"colorbar\": {\"outlinewidth\": 0, \"ticks\": \"\"}, \"type\": \"contourcarpet\"}], \"heatmap\": [{\"colorbar\": {\"outlinewidth\": 0, \"ticks\": \"\"}, \"colorscale\": [[0.0, \"#0d0887\"], [0.1111111111111111, \"#46039f\"], [0.2222222222222222, \"#7201a8\"], [0.3333333333333333, \"#9c179e\"], [0.4444444444444444, \"#bd3786\"], [0.5555555555555556, \"#d8576b\"], [0.6666666666666666, \"#ed7953\"], [0.7777777777777778, \"#fb9f3a\"], [0.8888888888888888, \"#fdca26\"], [1.0, \"#f0f921\"]], \"type\": \"heatmap\"}], \"heatmapgl\": [{\"colorbar\": {\"outlinewidth\": 0, \"ticks\": \"\"}, \"colorscale\": [[0.0, \"#0d0887\"], [0.1111111111111111, \"#46039f\"], [0.2222222222222222, \"#7201a8\"], [0.3333333333333333, \"#9c179e\"], [0.4444444444444444, \"#bd3786\"], [0.5555555555555556, \"#d8576b\"], [0.6666666666666666, \"#ed7953\"], [0.7777777777777778, \"#fb9f3a\"], [0.8888888888888888, \"#fdca26\"], [1.0, \"#f0f921\"]], \"type\": \"heatmapgl\"}], \"histogram\": [{\"marker\": {\"colorbar\": {\"outlinewidth\": 0, \"ticks\": \"\"}}, \"type\": \"histogram\"}], \"histogram2d\": [{\"colorbar\": {\"outlinewidth\": 0, \"ticks\": \"\"}, \"colorscale\": [[0.0, \"#0d0887\"], [0.1111111111111111, \"#46039f\"], [0.2222222222222222, \"#7201a8\"], [0.3333333333333333, \"#9c179e\"], [0.4444444444444444, \"#bd3786\"], [0.5555555555555556, \"#d8576b\"], [0.6666666666666666, \"#ed7953\"], [0.7777777777777778, \"#fb9f3a\"], [0.8888888888888888, \"#fdca26\"], [1.0, \"#f0f921\"]], \"type\": \"histogram2d\"}], \"histogram2dcontour\": [{\"colorbar\": {\"outlinewidth\": 0, \"ticks\": \"\"}, \"colorscale\": [[0.0, \"#0d0887\"], [0.1111111111111111, \"#46039f\"], [0.2222222222222222, \"#7201a8\"], [0.3333333333333333, \"#9c179e\"], [0.4444444444444444, \"#bd3786\"], [0.5555555555555556, \"#d8576b\"], [0.6666666666666666, \"#ed7953\"], [0.7777777777777778, \"#fb9f3a\"], [0.8888888888888888, \"#fdca26\"], [1.0, \"#f0f921\"]], \"type\": \"histogram2dcontour\"}], \"mesh3d\": [{\"colorbar\": {\"outlinewidth\": 0, \"ticks\": \"\"}, \"type\": \"mesh3d\"}], \"parcoords\": [{\"line\": {\"colorbar\": {\"outlinewidth\": 0, \"ticks\": \"\"}}, \"type\": \"parcoords\"}], \"pie\": [{\"automargin\": true, \"type\": \"pie\"}], \"scatter\": [{\"marker\": {\"colorbar\": {\"outlinewidth\": 0, \"ticks\": \"\"}}, \"type\": \"scatter\"}], \"scatter3d\": [{\"line\": {\"colorbar\": {\"outlinewidth\": 0, \"ticks\": \"\"}}, \"marker\": {\"colorbar\": {\"outlinewidth\": 0, \"ticks\": \"\"}}, \"type\": \"scatter3d\"}], \"scattercarpet\": [{\"marker\": {\"colorbar\": {\"outlinewidth\": 0, \"ticks\": \"\"}}, \"type\": \"scattercarpet\"}], \"scattergeo\": [{\"marker\": {\"colorbar\": {\"outlinewidth\": 0, \"ticks\": \"\"}}, \"type\": \"scattergeo\"}], \"scattergl\": [{\"marker\": {\"colorbar\": {\"outlinewidth\": 0, \"ticks\": \"\"}}, \"type\": \"scattergl\"}], \"scattermapbox\": [{\"marker\": {\"colorbar\": {\"outlinewidth\": 0, \"ticks\": \"\"}}, \"type\": \"scattermapbox\"}], \"scatterpolar\": [{\"marker\": {\"colorbar\": {\"outlinewidth\": 0, \"ticks\": \"\"}}, \"type\": \"scatterpolar\"}], \"scatterpolargl\": [{\"marker\": {\"colorbar\": {\"outlinewidth\": 0, \"ticks\": \"\"}}, \"type\": \"scatterpolargl\"}], \"scatterternary\": [{\"marker\": {\"colorbar\": {\"outlinewidth\": 0, \"ticks\": \"\"}}, \"type\": \"scatterternary\"}], \"surface\": [{\"colorbar\": {\"outlinewidth\": 0, \"ticks\": \"\"}, \"colorscale\": [[0.0, \"#0d0887\"], [0.1111111111111111, \"#46039f\"], [0.2222222222222222, \"#7201a8\"], [0.3333333333333333, \"#9c179e\"], [0.4444444444444444, \"#bd3786\"], [0.5555555555555556, \"#d8576b\"], [0.6666666666666666, \"#ed7953\"], [0.7777777777777778, \"#fb9f3a\"], [0.8888888888888888, \"#fdca26\"], [1.0, \"#f0f921\"]], \"type\": \"surface\"}], \"table\": [{\"cells\": {\"fill\": {\"color\": \"#EBF0F8\"}, \"line\": {\"color\": \"white\"}}, \"header\": {\"fill\": {\"color\": \"#C8D4E3\"}, \"line\": {\"color\": \"white\"}}, \"type\": \"table\"}]}, \"layout\": {\"annotationdefaults\": {\"arrowcolor\": \"#2a3f5f\", \"arrowhead\": 0, \"arrowwidth\": 1}, \"autotypenumbers\": \"strict\", \"coloraxis\": {\"colorbar\": {\"outlinewidth\": 0, \"ticks\": \"\"}}, \"colorscale\": {\"diverging\": [[0, \"#8e0152\"], [0.1, \"#c51b7d\"], [0.2, \"#de77ae\"], [0.3, \"#f1b6da\"], [0.4, \"#fde0ef\"], [0.5, \"#f7f7f7\"], [0.6, \"#e6f5d0\"], [0.7, \"#b8e186\"], [0.8, \"#7fbc41\"], [0.9, \"#4d9221\"], [1, \"#276419\"]], \"sequential\": [[0.0, \"#0d0887\"], [0.1111111111111111, \"#46039f\"], [0.2222222222222222, \"#7201a8\"], [0.3333333333333333, \"#9c179e\"], [0.4444444444444444, \"#bd3786\"], [0.5555555555555556, \"#d8576b\"], [0.6666666666666666, \"#ed7953\"], [0.7777777777777778, \"#fb9f3a\"], [0.8888888888888888, \"#fdca26\"], [1.0, \"#f0f921\"]], \"sequentialminus\": [[0.0, \"#0d0887\"], [0.1111111111111111, \"#46039f\"], [0.2222222222222222, \"#7201a8\"], [0.3333333333333333, \"#9c179e\"], [0.4444444444444444, \"#bd3786\"], [0.5555555555555556, \"#d8576b\"], [0.6666666666666666, \"#ed7953\"], [0.7777777777777778, \"#fb9f3a\"], [0.8888888888888888, \"#fdca26\"], [1.0, \"#f0f921\"]]}, \"colorway\": [\"#636efa\", \"#EF553B\", \"#00cc96\", \"#ab63fa\", \"#FFA15A\", \"#19d3f3\", \"#FF6692\", \"#B6E880\", \"#FF97FF\", \"#FECB52\"], \"font\": {\"color\": \"#2a3f5f\"}, \"geo\": {\"bgcolor\": \"white\", \"lakecolor\": \"white\", \"landcolor\": \"#E5ECF6\", \"showlakes\": true, \"showland\": true, \"subunitcolor\": \"white\"}, \"hoverlabel\": {\"align\": \"left\"}, \"hovermode\": \"closest\", \"mapbox\": {\"style\": \"light\"}, \"paper_bgcolor\": \"white\", \"plot_bgcolor\": \"#E5ECF6\", \"polar\": {\"angularaxis\": {\"gridcolor\": \"white\", \"linecolor\": \"white\", \"ticks\": \"\"}, \"bgcolor\": \"#E5ECF6\", \"radialaxis\": {\"gridcolor\": \"white\", \"linecolor\": \"white\", \"ticks\": \"\"}}, \"scene\": {\"xaxis\": {\"backgroundcolor\": \"#E5ECF6\", \"gridcolor\": \"white\", \"gridwidth\": 2, \"linecolor\": \"white\", \"showbackground\": true, \"ticks\": \"\", \"zerolinecolor\": \"white\"}, \"yaxis\": {\"backgroundcolor\": \"#E5ECF6\", \"gridcolor\": \"white\", \"gridwidth\": 2, \"linecolor\": \"white\", \"showbackground\": true, \"ticks\": \"\", \"zerolinecolor\": \"white\"}, \"zaxis\": {\"backgroundcolor\": \"#E5ECF6\", \"gridcolor\": \"white\", \"gridwidth\": 2, \"linecolor\": \"white\", \"showbackground\": true, \"ticks\": \"\", \"zerolinecolor\": \"white\"}}, \"shapedefaults\": {\"line\": {\"color\": \"#2a3f5f\"}}, \"ternary\": {\"aaxis\": {\"gridcolor\": \"white\", \"linecolor\": \"white\", \"ticks\": \"\"}, \"baxis\": {\"gridcolor\": \"white\", \"linecolor\": \"white\", \"ticks\": \"\"}, \"bgcolor\": \"#E5ECF6\", \"caxis\": {\"gridcolor\": \"white\", \"linecolor\": \"white\", \"ticks\": \"\"}}, \"title\": {\"x\": 0.05}, \"xaxis\": {\"automargin\": true, \"gridcolor\": \"white\", \"linecolor\": \"white\", \"ticks\": \"\", \"title\": {\"standoff\": 15}, \"zerolinecolor\": \"white\", \"zerolinewidth\": 2}, \"yaxis\": {\"automargin\": true, \"gridcolor\": \"white\", \"linecolor\": \"white\", \"ticks\": \"\", \"title\": {\"standoff\": 15}, \"zerolinecolor\": \"white\", \"zerolinewidth\": 2}}}, \"title\": {\"text\": \"Tree with Reingold-Tilford Layout\"}, \"xaxis\": {\"showgrid\": false, \"showline\": false, \"showticklabels\": false, \"zeroline\": false}, \"yaxis\": {\"showgrid\": false, \"showline\": false, \"showticklabels\": false, \"zeroline\": false}},                        {\"responsive\": true}                    ).then(function(){\n",
              "                            \n",
              "var gd = document.getElementById('5eb9fa94-0f10-40e8-bed1-c9f10a96ab05');\n",
              "var x = new MutationObserver(function (mutations, observer) {{\n",
              "        var display = window.getComputedStyle(gd).display;\n",
              "        if (!display || display === 'none') {{\n",
              "            console.log([gd, 'removed!']);\n",
              "            Plotly.purge(gd);\n",
              "            observer.disconnect();\n",
              "        }}\n",
              "}});\n",
              "\n",
              "// Listen for the removal of the full notebook cells\n",
              "var notebookContainer = gd.closest('#notebook-container');\n",
              "if (notebookContainer) {{\n",
              "    x.observe(notebookContainer, {childList: true});\n",
              "}}\n",
              "\n",
              "// Listen for the clearing of the current output cell\n",
              "var outputEl = gd.closest('.output');\n",
              "if (outputEl) {{\n",
              "    x.observe(outputEl, {childList: true});\n",
              "}}\n",
              "\n",
              "                        })                };                            </script>        </div>\n",
              "</body>\n",
              "</html>"
            ]
          },
          "metadata": {
            "tags": []
          }
        }
      ]
    }
  ]
}