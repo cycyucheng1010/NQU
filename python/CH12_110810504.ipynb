{
  "nbformat": 4,
  "nbformat_minor": 0,
  "metadata": {
    "kernelspec": {
      "display_name": "Python 3",
      "language": "python",
      "name": "python3"
    },
    "language_info": {
      "codemirror_mode": {
        "name": "ipython",
        "version": 3
      },
      "file_extension": ".py",
      "mimetype": "text/x-python",
      "name": "python",
      "nbconvert_exporter": "python",
      "pygments_lexer": "ipython3",
      "version": "3.8.3"
    },
    "colab": {
      "name": "CH12_110810504.ipynb",
      "provenance": []
    }
  },
  "cells": [
    {
      "cell_type": "code",
      "metadata": {
        "colab": {
          "base_uri": "https://localhost:8080/"
        },
        "id": "tU6GPw79NFV4",
        "outputId": "30eacf05-8c53-4562-a9d0-68df9947f0ce"
      },
      "source": [
        "from PIL import ImageColor\n",
        "print(ImageColor.getrgb(\"#0000ff\"))#(0,0,255)\n",
        "print(ImageColor.getrgb(\"rgb(0,0,255)\"))#(0,0,255)\n",
        "print(ImageColor.getrgb(\"rgb(0%,0%,100%)\"))#(0,0,255)\n",
        "print(ImageColor.getrgb(\"Blue\"))#(0,0,255)\n",
        "print(ImageColor.getcolor(\"#0000ff\",\"RGB\"))#(0,0,255)\n",
        "print(ImageColor.getcolor(\"rgb(0,0,255)\",\"RGB\"))#(0,0,255)\n",
        "print(ImageColor.getcolor(\"rgb(0%,0%,100%)\",\"RGBA\"))#(0,0,255)\n",
        "print(ImageColor.getcolor(\"Blue\",\"RGBA\"))#(0,0,255)"
      ],
      "execution_count": 10,
      "outputs": [
        {
          "output_type": "stream",
          "text": [
            "(0, 0, 255)\n",
            "(0, 0, 255)\n",
            "(0, 0, 255)\n",
            "(0, 0, 255)\n",
            "(0, 0, 255)\n",
            "(0, 0, 255)\n",
            "(0, 0, 255, 255)\n",
            "(0, 0, 255, 255)\n"
          ],
          "name": "stdout"
        }
      ]
    },
    {
      "cell_type": "code",
      "metadata": {
        "colab": {
          "base_uri": "https://localhost:8080/"
        },
        "id": "2lsfkAdVNFWI",
        "outputId": "446ab849-f138-419f-9a71-e3291a7674ed"
      },
      "source": [
        "from PIL import Image\n",
        "img=Image.open(\"img01.jpg\")\n",
        "img.show()\n",
        "w,h=img.size\n",
        "print(w,h)#320 240\n",
        "filename=img.filename\n",
        "print(filename)#img01.jpg"
      ],
      "execution_count": 11,
      "outputs": [
        {
          "output_type": "stream",
          "text": [
            "320 240\n",
            "img01.jpg\n"
          ],
          "name": "stdout"
        }
      ]
    },
    {
      "cell_type": "code",
      "metadata": {
        "id": "6OM7KtsXNFWK"
      },
      "source": [
        "from PIL import Image\n",
        "img1=Image.new(\"RGB\",(300,200),\"rgb(0,0,255)\")#藍色\n",
        "img1.save(\"blue.jpg\")\n",
        "img2=Image.new(\"RGBA\",(300,200),\"rgba(0,0,255,0)\")#透明\n",
        "img2.save(\"alpha.png\")"
      ],
      "execution_count": 12,
      "outputs": []
    },
    {
      "cell_type": "code",
      "metadata": {
        "id": "4BevRj9cNFWL"
      },
      "source": [
        "from PIL import Image\n",
        "img=Image.open(\"img01.jpg\")\n",
        "w,h=img.size#320 240\n",
        "img1=img.resize((w*2,h))\n",
        "img1.save(\"resize01.jpg\")\n",
        "img2=img.resize((w,h*2))\n",
        "img2.save(\"resize02.jpg\")"
      ],
      "execution_count": 13,
      "outputs": []
    },
    {
      "cell_type": "code",
      "metadata": {
        "id": "3BVs34hdNFWM"
      },
      "source": [
        "from PIL import Image\n",
        "img=Image.open(\"img01.jpg\")\n",
        "img1=img.rotate(90)#轉90度\n",
        "img1.save(\"retate01.jpg\")\n",
        "img.rotate(180).save(\"retate02.jpg\")#轉180度\n",
        "img.rotate(45).save(\"retate03.jpg\")#轉45度"
      ],
      "execution_count": 14,
      "outputs": []
    },
    {
      "cell_type": "code",
      "metadata": {
        "id": "dI4rhHG8NFWN"
      },
      "source": [
        "from PIL import Image\n",
        "img=Image.open(\"img01.jpg\")\n",
        "img.transpose(Image.FLIP_LEFT_RIGHT).save(\"transpose01.jpg\")#左右轉\n",
        "img.transpose(Image.FLIP_TOP_BOTTOM).save(\"transpose02.jpg\")#上下轉"
      ],
      "execution_count": 15,
      "outputs": []
    },
    {
      "cell_type": "code",
      "metadata": {
        "id": "EiBOu5tpNFWN"
      },
      "source": [
        "from PIL import Image\n",
        "img=Image.open(\"img01.jpg\")\n",
        "imggray=img.convert('L')#轉成灰階\n",
        "imggray.save(\"gray01.jpg\")"
      ],
      "execution_count": 16,
      "outputs": []
    },
    {
      "cell_type": "code",
      "metadata": {
        "id": "RSgKI3YVNFWO"
      },
      "source": [
        "from PIL import Image\n",
        "img=Image.open(\"img01.jpg\")\n",
        "w,h=img.size#320 240\n",
        "img=img.convert('L')#轉成灰階\n",
        "for i in range(w):#i為每一列\n",
        "    for j in range(h):#j為每一行\n",
        "        if img.getpixel((i,j))<100:\n",
        "            img.putpixel((i,j),(0))#設為黑色\n",
        "        else:\n",
        "            img.putpixel((i,j),(255))#設為白色\n",
        "img.save(\"thresh.jpg\")"
      ],
      "execution_count": 17,
      "outputs": []
    },
    {
      "cell_type": "code",
      "metadata": {
        "id": "80N_es_bNFWP"
      },
      "source": [
        "from PIL import Image\n",
        "img=Image.open(\"img01.jpg\") #w,h=img.size#320 240\n",
        "img1=img.crop((0,0,160,120))\n",
        "img1.save(\"crop\\\\crop01.jpg\")\n",
        "img.crop((160,0,320,120)).save(\"crop\\crop02.jpg\")\n",
        "img.crop((0,121,160,240)).save(\"crop\\crop03.jpg\")\n",
        "img.crop((161,121,320,240)).save(\"crop\\crop04.jpg\")\n",
        "img.close()"
      ],
      "execution_count": 18,
      "outputs": []
    },
    {
      "cell_type": "code",
      "metadata": {
        "id": "P3Chd8t5NFWP"
      },
      "source": [
        "from PIL import Image\n",
        "img=Image.open(\"img01.jpg\")\n",
        "imgcopy=img.copy()\n",
        "imgcopy.save(\"imgcopy.png\")"
      ],
      "execution_count": 19,
      "outputs": []
    },
    {
      "cell_type": "code",
      "metadata": {
        "id": "9k1r27c0NFWQ"
      },
      "source": [
        "from PIL import Image\n",
        "img=Image.open(\"panda.jpg\")\n",
        "imgcopy=img.copy()\n",
        "#切割熊貓並改尺寸\n",
        "img1=imgcopy.crop((190,184,415,350)).resize((160,140))\n",
        "imgcopy.paste(img1,(40,30))#貼上\n",
        "img2=img1.transpose(Image.FLIP_LEFT_RIGHT)#左右轉\n",
        "imgcopy.paste(img2,(220,40))\n",
        "#imgcopy.show()\n",
        "imgcopy.save(\"panda_paste.jpg\")"
      ],
      "execution_count": 20,
      "outputs": []
    },
    {
      "cell_type": "code",
      "metadata": {
        "id": "wP65wtfdNFWR"
      },
      "source": [
        "from PIL import Image,ImageFilter\n",
        "img=Image.open(\"panda.jpg\")\n",
        "imgFilter=img.filter(ImageFilter.BLUR)#模擬\n",
        "imgFilter.save(\"BLUR.jpg\")\n",
        "imgFilter=img.filter(ImageFilter.CONTOUR)#輪廓\n",
        "imgFilter.save(\"CONTOUR.jpg\")\n",
        "img.filter(ImageFilter.EMBOSS).save(\"EMBOSS.jpg\")\n",
        "img.filter(ImageFilter.SHARPEN).save(\"SHARPEN.jpg\")"
      ],
      "execution_count": 21,
      "outputs": []
    },
    {
      "cell_type": "code",
      "metadata": {
        "id": "5Z-7VdOiNFWR"
      },
      "source": [
        "from PIL import Image,ImageDraw\n",
        "img=Image.new(\"RGB\",(400,300),\"lightgray\")#淡灰色\n",
        "drawimg=ImageDraw.Draw(img)\n",
        "#繪點\n",
        "for i in range(0,400,10):\n",
        "    for j in range(0,300,10):\n",
        "        drawimg.point([(i,j)],fill=\"red\")\n",
        "#繪直線\n",
        "for i in range(0,400,10):\n",
        "    drawimg.line([(i,300),(200,150)],width=2,fill=\"blue\")\n",
        "img.show()"
      ],
      "execution_count": 22,
      "outputs": []
    },
    {
      "cell_type": "code",
      "metadata": {
        "id": "6s_3I6N_NFWS"
      },
      "source": [
        "from PIL import Image,ImageDraw\n",
        "from PIL import ImageFont\n",
        "img=Image.new(\"RGB\",(400,300),\"lightgray\")#淡灰色\n",
        "drawimg=ImageDraw.Draw(img)\n",
        "#繪多邊形\n",
        "drawimg.polygon([(200,100),(350,150),(50,150)],fill=\"blue\",outline=\"red\")#屋頂\n",
        "#繪矩形\n",
        "drawimg.rectangle((100,150,300,250),fill=\"green\",outline=\"black\")#房間\n",
        "#繪圖\n",
        "drawimg.ellipse((300,40,350,90),fill=\"red\")#太陽\n",
        "#繪橢圓\n",
        "drawimg.ellipse((60,80,100,100),fill=\"white\")\n",
        "drawimg.ellipse((100,60,130,80),fill=\"white\")\n",
        "#繪文字\n",
        "drawimg.text((120,170),\"e-happy\",fill=\"orange\")\n",
        "drawimg.text((120,200),\"hello world\",fill=\"red\")\n",
        "img.show()\n",
        "img.save(\"house.png\")"
      ],
      "execution_count": 28,
      "outputs": []
    },
    {
      "cell_type": "code",
      "metadata": {
        "colab": {
          "base_uri": "https://localhost:8080/"
        },
        "id": "1jV7jcSoNFWS",
        "outputId": "8a00366a-6868-417b-f6cf-2ee9a485809b"
      },
      "source": [
        "def emptydir(dirname):\n",
        "    if os.path.isdir(dirname):\n",
        "        shutil.rmtree(dirname)\n",
        "        sleep(1)#需要延遲,否則會出錯\n",
        "    os.mkdir(dirname)\n",
        "import PIL\n",
        "from PIL import Image\n",
        "import glob\n",
        "import shutil, os\n",
        "from time import sleep\n",
        "image_dir=\"pic\"\n",
        "target_dir='bmp_photo'\n",
        "target_dir2='gray_photo'\n",
        "emptydir(target_dir)\n",
        "emptydir(target_dir2)\n",
        "files=glob.glob(image_dir +\"\\.jpg\")+glob.glob(image_dir +\"\\.png\")\n",
        "for i ,f in enumerate(files):\n",
        "    img=Image.open(f)\n",
        "    img_new=img.resize((800,600),PIL.Image.ANTIALIAS)\n",
        "    path,filename=f.split(\"\\\\\")#路徑檔名\n",
        "    name,ext=filename.split(\".\")#主,副檔名\n",
        "    #以BMP格式存檔\n",
        "    img_new.save(target_dir+'/'+name+'.bmp')\n",
        "    #轉換為灰階\n",
        "    img_gray=img_new.convert('L')\n",
        "    outame=str(\"gray\")+str('{:0>3d}').format(i+1)+'.jpg'\n",
        "    img_gray.save(target_dir3+'/'+outname)\n",
        "    print(\"{}複製完成!\".format(f))\n",
        "    img.close()\n",
        "print('轉換尺寸及灰階處理結束!')"
      ],
      "execution_count": 29,
      "outputs": [
        {
          "output_type": "stream",
          "text": [
            "轉換尺寸及灰階處理結束!\n"
          ],
          "name": "stdout"
        }
      ]
    }
  ]
}