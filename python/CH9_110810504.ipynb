{
 "cells": [
  {
   "cell_type": "code",
   "execution_count": null,
   "metadata": {
    "colab": {
     "base_uri": "https://localhost:8080/"
    },
    "id": "-6nWRhCh1ukt",
    "outputId": "c41fa73a-d00c-44ff-c94b-bf2b65c17ae6"
   },
   "outputs": [],
   "source": [
    "import pandas as pd\n",
    "df1=pd.DataFrame({'CMWang':[13,45,23,64,43],'小翠兒':[5,42,77,84,54],'美美':[45,23,74,23,65]})\n",
    "df1"
   ]
  },
  {
   "cell_type": "code",
   "execution_count": null,
   "metadata": {
    "colab": {
     "base_uri": "https://localhost:8080/"
    },
    "id": "R-nLm3sG6Bep",
    "outputId": "2ecff5e6-1cae-4bb9-8cd7-ffb00767121c"
   },
   "outputs": [],
   "source": [
    "datas = [[12,23,42,12,42],[64,84,24,865,23],[92,54,94,275,80]]\n",
    "indexs=['CMwang','小翠兒','美美']\n",
    "columns = ['國文','英文','數學','自然','社會']\n",
    "df2=pd.DataFrame(datas,columns=columns,index=indexs)\n",
    "df2"
   ]
  },
  {
   "cell_type": "code",
   "execution_count": null,
   "metadata": {
    "colab": {
     "base_uri": "https://localhost:8080/"
    },
    "id": "ImL-KDKV591K",
    "outputId": "d4783dd0-a96a-4c9a-a94f-3e1a72019d17"
   },
   "outputs": [],
   "source": [
    "tables=pd.read_html('http://www.stockq.org/market/commodity.php')\n",
    "n=1\n",
    "for table in tables:\n",
    "  print('第'+str(n)+'個表格:')\n",
    "  print(table.head())\n",
    "  print()\n",
    "  n+=1"
   ]
  },
  {
   "cell_type": "code",
   "execution_count": null,
   "metadata": {
    "colab": {
     "base_uri": "https://localhost:8080/"
    },
    "id": "WQbIaXwcMIbK",
    "outputId": "8f22bcb5-4c11-46a1-f201-0d8beda50d59"
   },
   "outputs": [],
   "source": [
    "tables=pd.read_html('http://www.stockq.org/market/commodity.php')\n",
    "table=tables[7]\n",
    "table=table.drop(table.index[[0,1]])\n",
    "table.columns=['商品','買價','漲跌','比例','台北']\n",
    "table.index=range(len(table.index))\n",
    "table"
   ]
  },
  {
   "cell_type": "code",
   "execution_count": null,
   "metadata": {
    "colab": {
     "base_uri": "https://localhost:8080/",
     "height": 916
    },
    "id": "urhrCA-UM6Ne",
    "outputId": "a3c8f709-3804-45a1-e87a-bd6fd3838d1e"
   },
   "outputs": [],
   "source": [
    "import matplotlib.pyplot as plt\n",
    "plt.rcParams['font.sans-serif']='mingliu'\n",
    "plt.rcParams['axes.unicode_minus']=False\n",
    "datas=[[62,92,78,83,70],[90,72,76,93,56],[81,85,91,89,77],[79,53,47,94,80]]\n",
    "columns=['國文','數學','英文','自然','社會']\n",
    "df=pd.DataFrame(datas,columns=columns)\n",
    "df.plot(xticks=range(0,4))"
   ]
  },
  {
   "cell_type": "markdown",
   "metadata": {},
   "source": [
    "## PM2.5及時監測顯示器"
   ]
  },
  {
   "cell_type": "code",
   "execution_count": 52,
   "metadata": {},
   "outputs": [],
   "source": [
    "import tkinter as tk\n",
    "import pandas as pd\n",
    "from datetime import datetime"
   ]
  },
  {
   "cell_type": "code",
   "execution_count": 56,
   "metadata": {},
   "outputs": [],
   "source": [
    "def rbCity():\n",
    "    global sitelist,listradio\n",
    "    sitelist.clear()\n",
    "    for r in listradio:\n",
    "        r.destroy()\n",
    "    n=0\n",
    "    for c1 in data['county']:\n",
    "        if c1==city.get():\n",
    "            site1=data.iloc[n,0]\n",
    "            if site1 not in sitelist:\n",
    "                sitelist.append(site1)\n",
    "        n+=1\n",
    "    sitemake()\n",
    "    rbSite()\n",
    "    \n",
    "def rbSite():\n",
    "    n=0\n",
    "    for s in data.iloc[:,0]:\n",
    "        if(s==site.get()):\n",
    "            pm=data.iloc[n,2]\n",
    "            time=data.iloc[n,3]\n",
    "            if(pm==''or pm=='ND'):\n",
    "                result1.set(s+'站的PM2.5值目前無資料!')\n",
    "            else:\n",
    "                if int(pm)<=35:\n",
    "                    gradel='低'\n",
    "                elif int(pm)<=53:\n",
    "                    gradel='中'\n",
    "                elif int(pm)<=70:\n",
    "                    gradel='高'\n",
    "                else:\n",
    "                    gradel='非常高'\n",
    "                result1.set(s+'站的PM2.5值為「'+str(pm)+'」:「'+gradel+'」等級')\n",
    "                result2.set('Observation time:'+str(time))\n",
    "            break\n",
    "        n+=1\n",
    "        \n",
    "def clickRefresh():\n",
    "    global data\n",
    "    data=pd.read_csv('https://data.epa.gov.tw/api/v1/aqx_p_02?limit=1000&api_key=9be7b239-557b-4c10-9775-78cadfc555e9&format=csv')\n",
    "    rbSite()\n",
    "    \n",
    "def sitemake():\n",
    "    global sitelist,listradio\n",
    "    for c1 in sitelist:\n",
    "        rbtem=tk.Radiobutton(frame2,text=c1,variable=site,value=c1,command=rbSite)\n",
    "        listradio.append(rbtem)\n",
    "        if c1==sitelist[0]:\n",
    "           rbtem.select()\n",
    "        rbtem.pack(side='left')\n",
    "        \n"
   ]
  },
  {
   "cell_type": "code",
   "execution_count": 60,
   "metadata": {
    "id": "HyPuL5pbOJdm"
   },
   "outputs": [],
   "source": [
    "now = datetime.now()\n",
    "current_time = now.strftime(\"Today:%D  Nowtime:%H:%M\")\n",
    "\n",
    "data=pd.read_csv('https://data.epa.gov.tw/api/v1/aqx_p_02?limit=1000&api_key=9be7b239-557b-4c10-9775-78cadfc555e9&format=csv')\n",
    "win=tk.Tk()\n",
    "win.geometry('800x300')\n",
    "win.title('PM2.5 實時監測')\n",
    "\n",
    "city=tk.StringVar()\n",
    "site=tk.StringVar()\n",
    "result1=tk.StringVar()\n",
    "result2=tk.StringVar()\n",
    "citylist=[]\n",
    "sitelist=[]\n",
    "listradio=[]\n",
    "\n",
    "for c1 in data['county']:\n",
    "    if c1 not in citylist:\n",
    "        citylist.append(c1)\n",
    "        \n",
    "count=0\n",
    "for c1 in data['county']:\n",
    "    if c1 == citylist[0]:\n",
    "        site1=data.iloc[count,0]\n",
    "        if site1 not in sitelist:\n",
    "            sitelist.append(site1)\n",
    "    count+=1\n",
    "\n",
    "label1=tk.Label(win,text='縣市:',pady=6,fg='blue',font=('新細明體',12))\n",
    "label1.pack()\n",
    "\n",
    "frame1=tk.Frame(win)\n",
    "frame1.pack()\n",
    "for i in range(0,3):\n",
    "    for j in range(0,8):\n",
    "        n=i*8+j\n",
    "        if n<len(citylist):\n",
    "            city1=citylist[n]\n",
    "            rbtem=tk.Radiobutton(frame1,text=city1,variable=city,value=city1,command=rbCity)\n",
    "            rbtem.grid(row=i,column=j)\n",
    "            if n==0:\n",
    "                rbtem.select()\n",
    "        \n",
    "                \n",
    "label2=tk.Label(win,text='測站:',pady=6,fg='blue',font=('新細明體',12))\n",
    "label2.pack()\n",
    "frame2=tk.Frame(win)\n",
    "frame2.pack()\n",
    "sitemake()\n",
    "\n",
    "btnDown=tk.Button(win,text='更新資料',font=('新細明體',12),command=clickRefresh)\n",
    "btnDown.pack(pady=6)\n",
    "lblResult1=tk.Label(win,textvariable=result1,fg='red',font=('新細明體',16))\n",
    "lblResult1.pack(pady=6)\n",
    "obstime=tk.Label(win,textvariable=result2,fg='blue',font=('新細明體',12))\n",
    "obstime.pack(pady=3)\n",
    "rbSite()\n",
    "\n",
    "\n",
    "\n",
    "time=tk.Label(win,text=current_time,fg='black',font=('新細明體',12))\n",
    "time.pack(pady=6)\n",
    "win.mainloop()"
   ]
  },
  {
   "cell_type": "code",
   "execution_count": null,
   "metadata": {},
   "outputs": [],
   "source": []
  }
 ],
 "metadata": {
  "accelerator": "GPU",
  "colab": {
   "name": "HW9_110810504.ipynb",
   "provenance": []
  },
  "kernelspec": {
   "display_name": "Python 3",
   "language": "python",
   "name": "python3"
  },
  "language_info": {
   "codemirror_mode": {
    "name": "ipython",
    "version": 3
   },
   "file_extension": ".py",
   "mimetype": "text/x-python",
   "name": "python",
   "nbconvert_exporter": "python",
   "pygments_lexer": "ipython3",
   "version": "3.8.3"
  }
 },
 "nbformat": 4,
 "nbformat_minor": 1
}
