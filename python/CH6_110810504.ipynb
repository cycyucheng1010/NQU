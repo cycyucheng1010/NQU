{
 "cells": [
  {
   "cell_type": "code",
   "execution_count": 2,
   "metadata": {},
   "outputs": [
    {
     "name": "stdout",
     "output_type": "stream",
     "text": [
      "變數n不存在 !\n"
     ]
    }
   ],
   "source": [
    "try:\n",
    "    print(n)\n",
    "except:\n",
    "    print(\"變數n不存在 !\")"
   ]
  },
  {
   "cell_type": "code",
   "execution_count": 3,
   "metadata": {},
   "outputs": [
    {
     "name": "stdout",
     "output_type": "stream",
     "text": [
      "變數 n 不存在 !\n",
      "一定會執行的程式區塊\n"
     ]
    }
   ],
   "source": [
    "try:\n",
    "    print(n)\n",
    "except:\n",
    "    print(\"變數 n 不存在 !\")\n",
    "else:\n",
    "    print(\"變數 n 存在 !\")\n",
    "finally:\n",
    "    print(\"一定會執行的程式區塊\")"
   ]
  },
  {
   "cell_type": "code",
   "execution_count": 6,
   "metadata": {},
   "outputs": [
    {
     "name": "stdout",
     "output_type": "stream",
     "text": [
      "請輸入第一個整數 : 12\n",
      "請輸入第二個整數 : 12\n",
      "r =  24\n"
     ]
    }
   ],
   "source": [
    "try:\n",
    "    a = int(input(\"請輸入第一個整數 : \"))\n",
    "    b = int(input(\"請輸入第二個整數 : \"))\n",
    "    r = a + b\n",
    "    print(\"r = \", r)\n",
    "except:\n",
    "    print(\"發生輸入非數值的錯誤 !\")"
   ]
  },
  {
   "cell_type": "code",
   "execution_count": 9,
   "metadata": {},
   "outputs": [
    {
     "name": "stdout",
     "output_type": "stream",
     "text": [
      "請輸入第一個整數 : 2\n",
      "請輸入第二個整數 : 0\n",
      "發生 integer division or modulo by zero 的錯誤，包括分母為 0 的錯誤 !\n",
      "一定會執行的程式區塊\n"
     ]
    }
   ],
   "source": [
    "try:\n",
    "    a = int(input(\"請輸入第一個整數 : \"))\n",
    "    b = int(input(\"請輸入第二個整數 : \"))\n",
    "    r = a % b\n",
    "    print(\"r = \", r)\n",
    "except ValueError:\n",
    "    print(\"發生輸入非數值的錯誤 !\")\n",
    "except Exception as e:\n",
    "    print(\"發生\", e, \"的錯誤，包括分母為 0 的錯誤 !\")\n",
    "finally:\n",
    "    print(\"一定會執行的程式區塊\")"
   ]
  },
  {
   "cell_type": "code",
   "execution_count": 10,
   "metadata": {},
   "outputs": [
    {
     "name": "stdout",
     "output_type": "stream",
     "text": [
      "<!doctype html>\n",
      "<html>\n",
      "  <head>\n",
      "    <meta charset=\"UTF-8\">\n",
      "    <title>Hello</title>\n",
      "  </head>\n",
      "  <body>\n",
      "    <p>Hello World!</p>\n",
      "  </body>\n",
      "</html>\n"
     ]
    }
   ],
   "source": [
    "import requests\n",
    "url = 'http://www.ehappy.tw/demo.htm'\n",
    "r = requests.get(url)\n",
    "if(r.status_code == 200):\n",
    "    print(r.text)"
   ]
  },
  {
   "cell_type": "code",
   "execution_count": 11,
   "metadata": {},
   "outputs": [
    {
     "name": "stdout",
     "output_type": "stream",
     "text": [
      "{\n",
      "  \"args\": {\n",
      "    \"key1\": \"value1\", \n",
      "    \"key2\": \"value2\"\n",
      "  }, \n",
      "  \"headers\": {\n",
      "    \"Accept\": \"*/*\", \n",
      "    \"Accept-Encoding\": \"gzip, deflate\", \n",
      "    \"Host\": \"httpbin.org\", \n",
      "    \"User-Agent\": \"python-requests/2.24.0\", \n",
      "    \"X-Amzn-Trace-Id\": \"Root=1-5f924fca-095e0dbd30d56f412a20d703\"\n",
      "  }, \n",
      "  \"origin\": \"42.75.93.214\", \n",
      "  \"url\": \"http://httpbin.org/get?key1=value1&key2=value2\"\n",
      "}\n",
      "\n"
     ]
    }
   ],
   "source": [
    "import requests\n",
    "payload = {'key1':'value1','key2':'value2'}\n",
    "r = requests.get(\"http://httpbin.org/get\", params = payload)\n",
    "print(r.text)"
   ]
  },
  {
   "cell_type": "code",
   "execution_count": 12,
   "metadata": {},
   "outputs": [
    {
     "name": "stdout",
     "output_type": "stream",
     "text": [
      "{\n",
      "  \"args\": {}, \n",
      "  \"data\": \"\", \n",
      "  \"files\": {}, \n",
      "  \"form\": {\n",
      "    \"key1\": \"value1\", \n",
      "    \"key2\": \"value2\"\n",
      "  }, \n",
      "  \"headers\": {\n",
      "    \"Accept\": \"*/*\", \n",
      "    \"Accept-Encoding\": \"gzip, deflate\", \n",
      "    \"Content-Length\": \"23\", \n",
      "    \"Content-Type\": \"application/x-www-form-urlencoded\", \n",
      "    \"Host\": \"httpbin.org\", \n",
      "    \"User-Agent\": \"python-requests/2.24.0\", \n",
      "    \"X-Amzn-Trace-Id\": \"Root=1-5f924fd5-71ce9a365bb275f34e824f1f\"\n",
      "  }, \n",
      "  \"json\": null, \n",
      "  \"origin\": \"42.75.93.214\", \n",
      "  \"url\": \"http://httpbin.org/post\"\n",
      "}\n",
      "\n"
     ]
    }
   ],
   "source": [
    "import requests\n",
    "payload = {'key1':'value1','key2':'value2'}\n",
    "r = requests.post(\"http://httpbin.org/post\", data = payload)\n",
    "print(r.text)"
   ]
  },
  {
   "cell_type": "code",
   "execution_count": 13,
   "metadata": {},
   "outputs": [
    {
     "name": "stdout",
     "output_type": "stream",
     "text": [
      "<Response [200]>\n"
     ]
    }
   ],
   "source": [
    "import requests\n",
    "url = 'http://irs.thsrc.com.tw/IMINT/'\n",
    "headers = {\n",
    "    'User-Agent':'Mozilla/5.0 (Windows NT 10.0;Win64; x64) AppleWebKit/537.36 (KHTML, like Gecko)Chrome/80.0.3987.132 Safari/537.36'\n",
    "}\n",
    "r = requests.get(url, headers = headers)\n",
    "print(r)"
   ]
  },
  {
   "cell_type": "code",
   "execution_count": null,
   "metadata": {},
   "outputs": [],
   "source": []
  }
 ],
 "metadata": {
  "kernelspec": {
   "display_name": "Python 3",
   "language": "python",
   "name": "python3"
  },
  "language_info": {
   "codemirror_mode": {
    "name": "ipython",
    "version": 3
   },
   "file_extension": ".py",
   "mimetype": "text/x-python",
   "name": "python",
   "nbconvert_exporter": "python",
   "pygments_lexer": "ipython3",
   "version": "3.6.10"
  }
 },
 "nbformat": 4,
 "nbformat_minor": 4
}
