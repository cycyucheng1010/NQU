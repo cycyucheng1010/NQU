{
  "nbformat": 4,
  "nbformat_minor": 0,
  "metadata": {
    "colab": {
      "name": "CH4_110810504.ipynb",
      "provenance": [],
      "collapsed_sections": []
    },
    "kernelspec": {
      "name": "python3",
      "display_name": "Python 3"
    }
  },
  "cells": [
    {
      "cell_type": "code",
      "metadata": {
        "id": "R6fib5lxx9T2",
        "outputId": "e2e9ca64-79c8-4bca-b0a0-5764791c96df",
        "colab": {
          "base_uri": "https://localhost:8080/",
          "height": 55
        }
      },
      "source": [
        "Celsius = int(input(\" please enter the Celsius\"))\n",
        "Fahrenheit = 1.8 * Celsius + 32\n",
        "print(\"Fahrenheit is %1.f\"%Fahrenheit) "
      ],
      "execution_count": null,
      "outputs": [
        {
          "output_type": "stream",
          "text": [
            " please enter the Celsius25\n",
            "Fahrenheit is 77\n"
          ],
          "name": "stdout"
        }
      ]
    },
    {
      "cell_type": "code",
      "metadata": {
        "id": "SJJ6OT0kytZp",
        "outputId": "9c534f51-e1cb-481f-b7b9-dc378fa3849b",
        "colab": {
          "base_uri": "https://localhost:8080/",
          "height": 55
        }
      },
      "source": [
        "choose  = int(input(\"plz choose the mode, 0 is TWD to USD , 1 is USD to TWD\"))\n",
        "if choose == 0 :\n",
        "  money = float(input(\"plz enter the number (1TWD = 0.0345 USD)\"))\n",
        "  money2 = money*0.0345\n",
        "  print(\"%2.f TWD = %4.f USD\"%(money,money2))\n",
        "elif (choose == 1):\n",
        "    money = float(input(\"請輸入金額(1 USD = 28.59 TWD)\"))\n",
        "    money2 = money*28.59\n",
        "    print(\"%.2f美金為%.2f台幣\"%(money,money2))\n",
        "else:\n",
        "    print(\"Error comand\")"
      ],
      "execution_count": null,
      "outputs": [
        {
          "output_type": "stream",
          "text": [
            "plz choose the mode, 0 is TWD to USD , 1 is USD to TWD2\n",
            "Error\n"
          ],
          "name": "stdout"
        }
      ]
    },
    {
      "cell_type": "code",
      "metadata": {
        "id": "T2kbaaa81kAn",
        "outputId": "b219e953-8b55-45d6-ca22-ee8c28dc6f2b",
        "colab": {
          "base_uri": "https://localhost:8080/",
          "height": 87
        }
      },
      "source": [
        "def calsum(*params):\n",
        "    total = 0\n",
        "    for parm in params:\n",
        "        total +=parm\n",
        "    return total\n",
        "print(\"不定數目範例:\")\n",
        "print(\"2個參數:calsum(4,5)=%d\"%calsum(4,5))\n",
        "print(\"3個參數:calsum(4,5,12)=%d\"%calsum(4,5,12))\n",
        "print(\"4個參數:calsum(4,5,12,8)=%d\"%calsum(4,5,12,8))"
      ],
      "execution_count": 1,
      "outputs": [
        {
          "output_type": "stream",
          "text": [
            "不定數目範例:\n",
            "2個參數:calsum(4,5)=9\n",
            "3個參數:calsum(4,5,12)=21\n",
            "4個參數:calsum(4,5,12,8)=29\n"
          ],
          "name": "stdout"
        }
      ]
    },
    {
      "cell_type": "code",
      "metadata": {
        "id": "i2nHl1Zo0ZaT",
        "outputId": "7b275389-d417-40bc-ad62-c92b586f5137",
        "colab": {
          "base_uri": "https://localhost:8080/",
          "height": 87
        }
      },
      "source": [
        "def calsum(*params):\n",
        "    total = 0\n",
        "    count = 0\n",
        "    for parm in params:\n",
        "        total +=parm\n",
        "        count+=1\n",
        "    average = float(total/count)\n",
        "    return total,average\n",
        "print(\"不定數目平均:\")\n",
        "print(\"2個參數:calsum(4,5)=%d平均為:%.2f\"%calsum(4,5))\n",
        "print(\"3個參數:calsum(4,5,12)=%d平均為:%.2f\"%calsum(4,5,12))\n",
        "print(\"4個參數:calsum(4,5,12,8)=%d平均為:%.2f\"%calsum(4,5,12,8))"
      ],
      "execution_count": 2,
      "outputs": [
        {
          "output_type": "stream",
          "text": [
            "不定數目平均:\n",
            "2個參數:calsum(4,5)=9平均為:4.50\n",
            "3個參數:calsum(4,5,12)=21平均為:7.00\n",
            "4個參數:calsum(4,5,12,8)=29平均為:7.25\n"
          ],
          "name": "stdout"
        }
      ]
    },
    {
      "cell_type": "code",
      "metadata": {
        "id": "ccWg4cGL0cqS",
        "outputId": "e44cca2e-c3f7-4bbb-9367-c1b1bcf5849a",
        "colab": {
          "base_uri": "https://localhost:8080/",
          "height": 210
        }
      },
      "source": [
        "innum = 0\n",
        "list1 = []\n",
        "while(innum !=-1):\n",
        "    innum = int(input(\"請輸入正整數(-1:結束):\"))\n",
        "    list1.append(innum)\n",
        "list1.pop()\n",
        "print(\"共輸入%d個整數\"% len(list1))\n",
        "print(\"最大數為:%d\"% max(list1))\n",
        "print(\"最小數為:%d\"% min(list1))\n",
        "print(\"輸入數的總合為:%d\"% sum(list1))\n",
        "a = sum(list1)/len(list1)\n",
        "print(\"輸入數的平均為:%d\"%(a))\n",
        "print(\"輸入數由大到小排序為:{}\".format(sorted(list1,reverse=True)))"
      ],
      "execution_count": 3,
      "outputs": [
        {
          "output_type": "stream",
          "text": [
            "請輸入正整數(-1:結束):2\n",
            "請輸入正整數(-1:結束):1\n",
            "請輸入正整數(-1:結束):3\n",
            "請輸入正整數(-1:結束):3\n",
            "請輸入正整數(-1:結束):-1\n",
            "共輸入4個整數\n",
            "最大數為:3\n",
            "最小數為:1\n",
            "輸入數的總合為:9\n",
            "輸入數的平均為:2\n",
            "輸入數由大到小排序為:[3, 3, 2, 1]\n"
          ],
          "name": "stdout"
        }
      ]
    },
    {
      "cell_type": "code",
      "metadata": {
        "id": "1tw9tlUU0fB7"
      },
      "source": [
        ""
      ],
      "execution_count": null,
      "outputs": []
    }
  ]
}