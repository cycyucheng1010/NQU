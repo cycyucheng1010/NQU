{
 "cells": [
  {
   "cell_type": "code",
   "execution_count": 1,
   "metadata": {},
   "outputs": [
    {
     "name": "stdout",
     "output_type": "stream",
     "text": [
      "Starting to download \" 阿冗 - 與我無關【動態歌詞】「望眼欲穿 等不到你的晚安」♪\" ,plz wait\n",
      "\"阿冗 - 與我無關【動態歌詞】「望眼欲穿 等不到你的晚安」♪\" is finished!\n"
     ]
    }
   ],
   "source": [
    "from pytube import YouTube\n",
    "import os\n",
    "pathdir='d:\\\\teml'\n",
    "yt=YouTube('https://www.youtube.com/watch?v=8tuzFSXeKI0&list=PLsyOSbh5bs15OXJIigNdRgK0za-JXwhz1&index=4')\n",
    "print('Starting to download \" ' + yt.title + '\" ,plz wait')\n",
    "yt.streams.first().download(pathdir)\n",
    "#有first last filiter三種\n",
    "#filter的用法為(條件=值,.......)\n",
    "#progressive----> both image and sound\n",
    "#adaptive-------> only video or sound\n",
    "#subtype--------> video type for ex:mp4\n",
    "#res------------> resolution\n",
    "print('\"' + yt.title + '\" is finished!')"
   ]
  },
  {
   "cell_type": "code",
   "execution_count": 22,
   "metadata": {
    "scrolled": false
   },
   "outputs": [],
   "source": [
    "import tkinter as tk\n",
    "test1=tk.Tk()\n",
    "test1.geometry('450x450')\n",
    "test1.title('main window')\n",
    "label1=tk.Label(test1,text='Hello world',fg='black',bg='white',font=('標楷體',12),padx=450,pady=450)\n",
    "label1.pack()\n",
    "test1.mainloop()"
   ]
  },
  {
   "cell_type": "code",
   "execution_count": 90,
   "metadata": {},
   "outputs": [],
   "source": [
    "count=0\n",
    "def click1():\n",
    "    global count\n",
    "    count+=1\n",
    "    countvar.set('按了'+str(count)+'次')\n",
    "    if count%2==1:\n",
    "        textvar.set('Hello world')\n",
    "    else:\n",
    "        textvar.set('button')\n",
    "test2=tk.Tk()\n",
    "test2.geometry('50x80')\n",
    "test2.title('main window')\n",
    "\n",
    "countvar=tk.StringVar()\n",
    "label2=tk.Label(test2,textvariable=countvar,fg='black',font=('標楷體',12),padx=10,pady=10)\n",
    "label2.pack()\n",
    "\n",
    "textvar=tk.StringVar()\n",
    "button1=tk.Button(test2,textvariable=textvar,command=click1)\n",
    "textvar.set('button')\n",
    "button1.pack()\n",
    "test2.mainloop()\n"
   ]
  },
  {
   "cell_type": "code",
   "execution_count": 91,
   "metadata": {},
   "outputs": [],
   "source": [
    "test3=tk.Tk()\n",
    "test3.title('README')\n",
    "text=tk.Text(test3)\n",
    "text.insert(tk.INSERT,'tkINTER模組是圖形使用者介面，\\n')\n",
    "text.insert(tk.INSERT,'雖然功能略為陽春，\\n')\n",
    "text.insert(tk.INSERT,'但已足夠一般應用程式使用，\\n')\n",
    "text.insert(tk.INSERT,'而且是內含於python系統中，\\n')\n",
    "text.insert(tk.INSERT,'不需另外安裝即可使用。')\n",
    "text.pack()\n",
    "text.config(state=tk.DISABLED)\n",
    "test3.mainloop()"
   ]
  },
  {
   "cell_type": "code",
   "execution_count": 92,
   "metadata": {},
   "outputs": [],
   "source": [
    "def enter():\n",
    "    if pw.get()=='1234':\n",
    "        msg.set('密碼正確，歡迎登入') \n",
    "    else:\n",
    "        msg.set('密碼錯誤，請重新輸入')\n",
    "test4=tk.Tk()\n",
    "pw=tk.StringVar()\n",
    "msg=tk.StringVar()\n",
    "label=tk.Label(test4,text=\"請輸入密碼\")\n",
    "label.pack()\n",
    "enterspace=tk.Entry(test4,textvariable=pw)\n",
    "enterspace.pack()\n",
    "button=tk.Button(test4,text='登入',command=enter)\n",
    "button.pack()\n",
    "lblmsg=tk.Label(test4,fg='red',textvariable=msg)\n",
    "lblmsg.pack()\n",
    "test4.mainloop()"
   ]
  },
  {
   "cell_type": "code",
   "execution_count": 93,
   "metadata": {},
   "outputs": [],
   "source": [
    "def choose1():\n",
    "    msg.set('你最喜歡的運動是:'+choice.get())\n",
    "    \n",
    "test5=tk.Tk()\n",
    "choice=tk.StringVar()\n",
    "msg=tk.StringVar()\n",
    "label=tk.Label(test5,text='選擇最喜歡的球類運動')\n",
    "label.pack()\n",
    "item1=tk.Radiobutton(test5,text='足球',value='足球',variable=choice,command=choose1)\n",
    "item1.pack()\n",
    "item2=tk.Radiobutton(test5,text='籃球',value='藍球',variable=choice,command=choose1)\n",
    "item2.pack()\n",
    "item3=tk.Radiobutton(test5,text='棒球',value='棒球',variable=choice,command=choose1)\n",
    "item3.pack()\n",
    "lblmsg=tk.Label(test5,fg='red',textvariable=msg)\n",
    "lblmsg.pack()\n",
    "item1.select()\n",
    "msg.set('你最喜歡的運動是:'+choice.get())\n",
    "test5.mainloop()"
   ]
  },
  {
   "cell_type": "code",
   "execution_count": 9,
   "metadata": {},
   "outputs": [],
   "source": [
    "def choose2():\n",
    "    str='你喜歡的球類運動:'\n",
    "    for i in range(0,len(choice)):\n",
    "        if choice[i].get()==1:\n",
    "            str=str+ball[i]+' '\n",
    "    msg.set(str)\n",
    "    \n",
    "test6=tk.Tk()\n",
    "choice=[]\n",
    "ball=['足球','籃球','棒球']\n",
    "msg=tk.StringVar()\n",
    "label=tk.Label(test6,text='選擇喜歡的球類:')\n",
    "label.pack()\n",
    "for i in range(0,len(ball)):\n",
    "    tem=tk.IntVar()\n",
    "    choice.append(tem)\n",
    "    item=tk.Checkbutton(test6,text=ball[i],variable=choice[i],command=choose2)\n",
    "    item.pack()\n",
    "lblmsg=tk.Label(test6,fg='red',textvariable=msg)\n",
    "lblmsg.pack()\n",
    "test6.mainloop()"
   ]
  },
  {
   "cell_type": "code",
   "execution_count": 1,
   "metadata": {
    "scrolled": true
   },
   "outputs": [],
   "source": [
    "import tkinter as tk\n",
    "from pytube import YouTube\n",
    "import os\n",
    "def rbVideo():\n",
    "    global getvideo\n",
    "    labelMsg.config(text=\"\")\n",
    "    getvideo = videorb.get()\n",
    "    \n",
    "def click():\n",
    "    global getvideo,strftype,listradio\n",
    "    labelMsg.config(text=\"\")\n",
    "    if(url.get()==\"\"):\n",
    "        labelMsg.config(text=\"網址欄位必須輸入\")\n",
    "        return\n",
    "    if(path.get()==\"\"):\n",
    "        pathdir='download'\n",
    "    else:\n",
    "        pathdir = path.get()\n",
    "        pathdir = pathdir.replace('\\\\','\\\\\\\\')\n",
    "    try:\n",
    "        yt = Youtube(url.get())\n",
    "        yt.streams.filter(subtype='mp4',res=getvideo,progressive=True).first().download(pathdir)\n",
    "        labelMsg.config(text=\"下載完成\")\n",
    "    except:\n",
    "        labelMsg.config(text=\"影片無法下載\")\n",
    "\n",
    "win = tk.Tk()\n",
    "win.geometry(\"560x280\")\n",
    "win.title(\"下載youtube影片\")\n",
    "getvideo = \"360p\"\n",
    "\n",
    "\n",
    "label1=tk.Label(win,text=\"YouTube網址:\")\n",
    "label1.place(x=123,y=30)\n",
    "url = tk.StringVar()\n",
    "entryUrl = tk.Entry(win,textvariable=url)\n",
    "entryUrl.config(width=45)\n",
    "entryUrl.place(x=220,y=30)\n",
    "\n",
    "label2=tk.Label(win,text=\"存檔路徑(預設為download資料夾):\")\n",
    "label2.place(x=10,y=70)\n",
    "path = tk.StringVar()\n",
    "entryPath = tk.Entry(win,textvariable=path)\n",
    "entryPath.config(width=45)\n",
    "entryPath.place(x=220,y=70)\n",
    "\n",
    "btnDown = tk.Button(win,text=\"下載影片\",command=click)\n",
    "btnDown.place(x=200,y=110)\n",
    "\n",
    "videorb = tk.StringVar()\n",
    "rb1 = tk.Radiobutton(win,text='360p,mp4',variable=videorb,value='360p',command=rbVideo)\n",
    "rb1.place(x=200,y=150)\n",
    "rb1.select()\n",
    "rb2 = tk.Radiobutton(win,text='720p,mp4',variable=videorb,value='720p',command=rbVideo)\n",
    "rb2.place(x=200,y=180)\n",
    "\n",
    "labelMsg = tk.Label(win,text=\"\",fg=\"red\")\n",
    "labelMsg.place(x=200,y=220)\n",
    "\n",
    "win.mainloop()"
   ]
  },
  {
   "cell_type": "code",
   "execution_count": null,
   "metadata": {},
   "outputs": [],
   "source": []
  },
  {
   "cell_type": "code",
   "execution_count": null,
   "metadata": {},
   "outputs": [],
   "source": []
  }
 ],
 "metadata": {
  "kernelspec": {
   "display_name": "Python 3",
   "language": "python",
   "name": "python3"
  },
  "language_info": {
   "codemirror_mode": {
    "name": "ipython",
    "version": 3
   },
   "file_extension": ".py",
   "mimetype": "text/x-python",
   "name": "python",
   "nbconvert_exporter": "python",
   "pygments_lexer": "ipython3",
   "version": "3.8.3"
  }
 },
 "nbformat": 4,
 "nbformat_minor": 4
}
