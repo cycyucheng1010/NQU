{
  "nbformat": 4,
  "nbformat_minor": 0,
  "metadata": {
    "colab": {
      "name": "CH5_110810504",
      "provenance": [],
      "collapsed_sections": []
    },
    "kernelspec": {
      "name": "python3",
      "display_name": "Python 3"
    }
  },
  "cells": [
    {
      "cell_type": "code",
      "metadata": {
        "id": "QXX-w296rxP2"
      },
      "source": [
        "import os \n",
        "cur_path=os.getcwd()\n",
        "print(cur_path)\n",
        "os.system(\"clear\")\n",
        "os.system(\"mkdir dir3\")\n",
        "os.system(\"cp ossystem.py dir3/copyfile.py\")\n",
        "file=cur_path+\"/dir3/copyfile.py\"\n",
        "print(file)\n",
        "os.system(\"open -a textEdit \"+file)"
      ],
      "execution_count": null,
      "outputs": []
    },
    {
      "cell_type": "code",
      "metadata": {
        "id": "cUDLfGePug9n",
        "outputId": "ae180f2b-b091-4969-f7a2-0abf276dae1e",
        "colab": {
          "base_uri": "https://localhost:8080/",
          "height": 34
        }
      },
      "source": [
        "import os\n",
        "print(os.getcwd())"
      ],
      "execution_count": null,
      "outputs": [
        {
          "output_type": "stream",
          "text": [
            "/content\n"
          ],
          "name": "stdout"
        }
      ]
    },
    {
      "cell_type": "code",
      "metadata": {
        "id": "h5cUBHiGEPdk"
      },
      "source": [
        "f =open('myFile.txt',mode='w',encoding='utf-8')\n",
        "f.close()"
      ],
      "execution_count": null,
      "outputs": []
    },
    {
      "cell_type": "code",
      "metadata": {
        "id": "GOyK321NEkd5",
        "outputId": "d94b6ad4-8320-4cbd-c98c-17a2b3fd6830",
        "colab": {
          "base_uri": "https://localhost:8080/",
          "height": 34
        }
      },
      "source": [
        "import os \n",
        "file = \"myFile.txt\"\n",
        "if os.path.exists(file):\n",
        "  os.remove(file)\n",
        "else:\n",
        "  print(file+'檔案未建立!')"
      ],
      "execution_count": null,
      "outputs": [
        {
          "output_type": "stream",
          "text": [
            "myFile.txt檔案未建立!\n"
          ],
          "name": "stdout"
        }
      ]
    },
    {
      "cell_type": "code",
      "metadata": {
        "id": "OnCOQp1JFTaD",
        "outputId": "bda810bd-5b00-4f7c-ff10-06f3114d7d92",
        "colab": {
          "base_uri": "https://localhost:8080/",
          "height": 34
        }
      },
      "source": [
        "import os\n",
        "dir = 'myDir'\n",
        "if not os.path.exists(dir):\n",
        "  os.mkdir(dir)\n",
        "else:\n",
        "  print(dir+'檔案已建立!')\n"
      ],
      "execution_count": null,
      "outputs": [
        {
          "output_type": "stream",
          "text": [
            "myDir檔案已建立!\n"
          ],
          "name": "stdout"
        }
      ]
    },
    {
      "cell_type": "code",
      "metadata": {
        "id": "XHqMiwYFFwwK",
        "outputId": "4eead9dd-0c5c-423e-9ff6-cf3c49014877",
        "colab": {
          "base_uri": "https://localhost:8080/",
          "height": 34
        }
      },
      "source": [
        "import os \n",
        "dir = \"myDir\"\n",
        "if os.path.exists(dir):\n",
        "  os.rmdir(dir)\n",
        "else:\n",
        "  print(dir+'目錄未建立!')"
      ],
      "execution_count": null,
      "outputs": [
        {
          "output_type": "stream",
          "text": [
            "myDir目錄未建立!\n"
          ],
          "name": "stdout"
        }
      ]
    },
    {
      "cell_type": "code",
      "metadata": {
        "id": "M7K7vNJ8Gb50",
        "outputId": "2ad50271-770d-48d2-da17-4b41986543ce",
        "colab": {
          "base_uri": "https://localhost:8080/",
          "height": 239
        }
      },
      "source": [
        "import os\n",
        "cur_path = os.getcwd()\n",
        "with open('file1.txt', mode = 'r', encoding = 'utf-8') as f:\n",
        "    content = f.readlines()\n",
        "with open('copyfile1.txt', mode = 'w', encoding = 'utf-8') as f:\n",
        "    os.system('copy file1.txt copyfile1.txt')\n",
        "file = cur_path + \"\\copyfile1.txt\"\n",
        "os.system(\"notepad \" + file)"
      ],
      "execution_count": null,
      "outputs": [
        {
          "output_type": "error",
          "ename": "FileNotFoundError",
          "evalue": "ignored",
          "traceback": [
            "\u001b[0;31m---------------------------------------------------------------------------\u001b[0m",
            "\u001b[0;31mFileNotFoundError\u001b[0m                         Traceback (most recent call last)",
            "\u001b[0;32m<ipython-input-14-c437ee6f5adb>\u001b[0m in \u001b[0;36m<module>\u001b[0;34m()\u001b[0m\n\u001b[1;32m      1\u001b[0m \u001b[0;32mimport\u001b[0m \u001b[0mos\u001b[0m\u001b[0;34m\u001b[0m\u001b[0;34m\u001b[0m\u001b[0m\n\u001b[1;32m      2\u001b[0m \u001b[0mcur_path\u001b[0m \u001b[0;34m=\u001b[0m \u001b[0mos\u001b[0m\u001b[0;34m.\u001b[0m\u001b[0mgetcwd\u001b[0m\u001b[0;34m(\u001b[0m\u001b[0;34m)\u001b[0m\u001b[0;34m\u001b[0m\u001b[0;34m\u001b[0m\u001b[0m\n\u001b[0;32m----> 3\u001b[0;31m \u001b[0;32mwith\u001b[0m \u001b[0mopen\u001b[0m\u001b[0;34m(\u001b[0m\u001b[0;34m'file1.txt'\u001b[0m\u001b[0;34m,\u001b[0m \u001b[0mmode\u001b[0m \u001b[0;34m=\u001b[0m \u001b[0;34m'r'\u001b[0m\u001b[0;34m,\u001b[0m \u001b[0mencoding\u001b[0m \u001b[0;34m=\u001b[0m \u001b[0;34m'utf-8'\u001b[0m\u001b[0;34m)\u001b[0m \u001b[0;32mas\u001b[0m \u001b[0mf\u001b[0m\u001b[0;34m:\u001b[0m\u001b[0;34m\u001b[0m\u001b[0;34m\u001b[0m\u001b[0m\n\u001b[0m\u001b[1;32m      4\u001b[0m     \u001b[0mcontent\u001b[0m \u001b[0;34m=\u001b[0m \u001b[0mf\u001b[0m\u001b[0;34m.\u001b[0m\u001b[0mreadlines\u001b[0m\u001b[0;34m(\u001b[0m\u001b[0;34m)\u001b[0m\u001b[0;34m\u001b[0m\u001b[0;34m\u001b[0m\u001b[0m\n\u001b[1;32m      5\u001b[0m \u001b[0;32mwith\u001b[0m \u001b[0mopen\u001b[0m\u001b[0;34m(\u001b[0m\u001b[0;34m'copyfile1.txt'\u001b[0m\u001b[0;34m,\u001b[0m \u001b[0mmode\u001b[0m \u001b[0;34m=\u001b[0m \u001b[0;34m'w'\u001b[0m\u001b[0;34m,\u001b[0m \u001b[0mencoding\u001b[0m \u001b[0;34m=\u001b[0m \u001b[0;34m'utf-8'\u001b[0m\u001b[0;34m)\u001b[0m \u001b[0;32mas\u001b[0m \u001b[0mf\u001b[0m\u001b[0;34m:\u001b[0m\u001b[0;34m\u001b[0m\u001b[0;34m\u001b[0m\u001b[0m\n",
            "\u001b[0;31mFileNotFoundError\u001b[0m: [Errno 2] No such file or directory: 'file1.txt'"
          ]
        }
      ]
    },
    {
      "cell_type": "code",
      "metadata": {
        "id": "IXACHLApKnD8",
        "outputId": "67b7df72-4be7-4f5a-80d3-421ebbd67c25",
        "colab": {
          "base_uri": "https://localhost:8080/",
          "height": 34
        }
      },
      "source": [
        "import os.path\n",
        "print(\"現在目錄路徑:\", os.getcwd())\n",
        "filename = os.path.abspath(\"file1.txt\")\n",
        "if os.path.exists(filename):\n",
        "    print(\"完整路徑名稱:\" + filename)\n",
        "    print(\"檔案大小:\", os.path.getsize(filename))\n",
        "    basename = os.path.basename(filename)\n",
        "    print(\"最後的檔案或路徑名稱:\" + basename)\n",
        "    dirname = os.path.dirname(filename)\n",
        "    print(\"目前檔案目錄路徑:\" + dirname)\n",
        "    print(\"是否為目錄:\", os.path.isdir(filename))\n",
        "    fullpath,fname = os.path.split(filename)\n",
        "    print(\"目錄路徑:\" + fullpath)\n",
        "    print(\"檔名:\" + fname)\n",
        "    Drive,fpath = os.path.splitdrive(filename)\n",
        "    print(\"磁碟機:\" + Drive)\n",
        "    print(\"路徑名稱:\" + fpath)\n",
        "    fullpath = os.path.join(fullpath + \"\\\\\" + fname)\n",
        "    print(\"組合路徑:\" + fullpath)"
      ],
      "execution_count": null,
      "outputs": [
        {
          "output_type": "stream",
          "text": [
            "現在目錄路徑: /content\n"
          ],
          "name": "stdout"
        }
      ]
    },
    {
      "cell_type": "code",
      "metadata": {
        "id": "M2hmBGkzK24f",
        "outputId": "2015a045-95e4-442c-a81e-c4dc1e820c46",
        "colab": {
          "base_uri": "https://localhost:8080/",
          "height": 459
        }
      },
      "source": [
        "import os\n",
        "cur_path = os.getcwd()\n",
        "sample_tree = os.walk(cur_path)\n",
        "for dirname,subdir,files in sample_tree:\n",
        "    print(\"檔案路徑:\", dirname)\n",
        "    print(\"目錄串列:\", subdir)\n",
        "    print(\"檔案串列:\", files)\n",
        "    print()"
      ],
      "execution_count": null,
      "outputs": [
        {
          "output_type": "stream",
          "text": [
            "檔案路徑: /content\n",
            "目錄串列: ['.config', 'sample_data']\n",
            "檔案串列: []\n",
            "\n",
            "檔案路徑: /content/.config\n",
            "目錄串列: ['configurations', 'logs']\n",
            "檔案串列: ['.last_opt_in_prompt.yaml', 'active_config', '.last_survey_prompt.yaml', '.last_update_check.json', 'gce', 'config_sentinel', '.metricsUUID']\n",
            "\n",
            "檔案路徑: /content/.config/configurations\n",
            "目錄串列: []\n",
            "檔案串列: ['config_default']\n",
            "\n",
            "檔案路徑: /content/.config/logs\n",
            "目錄串列: ['2020.10.14']\n",
            "檔案串列: []\n",
            "\n",
            "檔案路徑: /content/.config/logs/2020.10.14\n",
            "目錄串列: []\n",
            "檔案串列: ['16.31.46.119103.log', '16.31.25.706256.log', '16.30.50.869240.log', '16.31.46.824031.log', '16.31.10.843101.log', '16.31.31.333159.log']\n",
            "\n",
            "檔案路徑: /content/sample_data\n",
            "目錄串列: []\n",
            "檔案串列: ['anscombe.json', 'README.md', 'california_housing_test.csv', 'mnist_test.csv', 'california_housing_train.csv', 'mnist_train_small.csv']\n",
            "\n"
          ],
          "name": "stdout"
        }
      ]
    },
    {
      "cell_type": "code",
      "metadata": {
        "id": "zNYi4sGDLJMj",
        "outputId": "739f223a-87ee-4090-f671-891fcb4c317d",
        "colab": {
          "base_uri": "https://localhost:8080/",
          "height": 351
        }
      },
      "source": [
        "import os,shutil\n",
        "cur_path = os.getcwd()\n",
        "destfile = cur_path + \"\\\\\" + \"copyfile1.txt\"\n",
        "shutil.copy(\"file1.txt\", destfile)"
      ],
      "execution_count": null,
      "outputs": [
        {
          "output_type": "error",
          "ename": "FileNotFoundError",
          "evalue": "ignored",
          "traceback": [
            "\u001b[0;31m---------------------------------------------------------------------------\u001b[0m",
            "\u001b[0;31mFileNotFoundError\u001b[0m                         Traceback (most recent call last)",
            "\u001b[0;32m<ipython-input-17-74fe2fa8b406>\u001b[0m in \u001b[0;36m<module>\u001b[0;34m()\u001b[0m\n\u001b[1;32m      2\u001b[0m \u001b[0mcur_path\u001b[0m \u001b[0;34m=\u001b[0m \u001b[0mos\u001b[0m\u001b[0;34m.\u001b[0m\u001b[0mgetcwd\u001b[0m\u001b[0;34m(\u001b[0m\u001b[0;34m)\u001b[0m\u001b[0;34m\u001b[0m\u001b[0;34m\u001b[0m\u001b[0m\n\u001b[1;32m      3\u001b[0m \u001b[0mdestfile\u001b[0m \u001b[0;34m=\u001b[0m \u001b[0mcur_path\u001b[0m \u001b[0;34m+\u001b[0m \u001b[0;34m\"\\\\\"\u001b[0m \u001b[0;34m+\u001b[0m \u001b[0;34m\"copyfile1.txt\"\u001b[0m\u001b[0;34m\u001b[0m\u001b[0;34m\u001b[0m\u001b[0m\n\u001b[0;32m----> 4\u001b[0;31m \u001b[0mshutil\u001b[0m\u001b[0;34m.\u001b[0m\u001b[0mcopy\u001b[0m\u001b[0;34m(\u001b[0m\u001b[0;34m\"file1.txt\"\u001b[0m\u001b[0;34m,\u001b[0m \u001b[0mdestfile\u001b[0m\u001b[0;34m)\u001b[0m\u001b[0;34m\u001b[0m\u001b[0;34m\u001b[0m\u001b[0m\n\u001b[0m",
            "\u001b[0;32m/usr/lib/python3.6/shutil.py\u001b[0m in \u001b[0;36mcopy\u001b[0;34m(src, dst, follow_symlinks)\u001b[0m\n\u001b[1;32m    243\u001b[0m     \u001b[0;32mif\u001b[0m \u001b[0mos\u001b[0m\u001b[0;34m.\u001b[0m\u001b[0mpath\u001b[0m\u001b[0;34m.\u001b[0m\u001b[0misdir\u001b[0m\u001b[0;34m(\u001b[0m\u001b[0mdst\u001b[0m\u001b[0;34m)\u001b[0m\u001b[0;34m:\u001b[0m\u001b[0;34m\u001b[0m\u001b[0;34m\u001b[0m\u001b[0m\n\u001b[1;32m    244\u001b[0m         \u001b[0mdst\u001b[0m \u001b[0;34m=\u001b[0m \u001b[0mos\u001b[0m\u001b[0;34m.\u001b[0m\u001b[0mpath\u001b[0m\u001b[0;34m.\u001b[0m\u001b[0mjoin\u001b[0m\u001b[0;34m(\u001b[0m\u001b[0mdst\u001b[0m\u001b[0;34m,\u001b[0m \u001b[0mos\u001b[0m\u001b[0;34m.\u001b[0m\u001b[0mpath\u001b[0m\u001b[0;34m.\u001b[0m\u001b[0mbasename\u001b[0m\u001b[0;34m(\u001b[0m\u001b[0msrc\u001b[0m\u001b[0;34m)\u001b[0m\u001b[0;34m)\u001b[0m\u001b[0;34m\u001b[0m\u001b[0;34m\u001b[0m\u001b[0m\n\u001b[0;32m--> 245\u001b[0;31m     \u001b[0mcopyfile\u001b[0m\u001b[0;34m(\u001b[0m\u001b[0msrc\u001b[0m\u001b[0;34m,\u001b[0m \u001b[0mdst\u001b[0m\u001b[0;34m,\u001b[0m \u001b[0mfollow_symlinks\u001b[0m\u001b[0;34m=\u001b[0m\u001b[0mfollow_symlinks\u001b[0m\u001b[0;34m)\u001b[0m\u001b[0;34m\u001b[0m\u001b[0;34m\u001b[0m\u001b[0m\n\u001b[0m\u001b[1;32m    246\u001b[0m     \u001b[0mcopymode\u001b[0m\u001b[0;34m(\u001b[0m\u001b[0msrc\u001b[0m\u001b[0;34m,\u001b[0m \u001b[0mdst\u001b[0m\u001b[0;34m,\u001b[0m \u001b[0mfollow_symlinks\u001b[0m\u001b[0;34m=\u001b[0m\u001b[0mfollow_symlinks\u001b[0m\u001b[0;34m)\u001b[0m\u001b[0;34m\u001b[0m\u001b[0;34m\u001b[0m\u001b[0m\n\u001b[1;32m    247\u001b[0m     \u001b[0;32mreturn\u001b[0m \u001b[0mdst\u001b[0m\u001b[0;34m\u001b[0m\u001b[0;34m\u001b[0m\u001b[0m\n",
            "\u001b[0;32m/usr/lib/python3.6/shutil.py\u001b[0m in \u001b[0;36mcopyfile\u001b[0;34m(src, dst, follow_symlinks)\u001b[0m\n\u001b[1;32m    118\u001b[0m         \u001b[0mos\u001b[0m\u001b[0;34m.\u001b[0m\u001b[0msymlink\u001b[0m\u001b[0;34m(\u001b[0m\u001b[0mos\u001b[0m\u001b[0;34m.\u001b[0m\u001b[0mreadlink\u001b[0m\u001b[0;34m(\u001b[0m\u001b[0msrc\u001b[0m\u001b[0;34m)\u001b[0m\u001b[0;34m,\u001b[0m \u001b[0mdst\u001b[0m\u001b[0;34m)\u001b[0m\u001b[0;34m\u001b[0m\u001b[0;34m\u001b[0m\u001b[0m\n\u001b[1;32m    119\u001b[0m     \u001b[0;32melse\u001b[0m\u001b[0;34m:\u001b[0m\u001b[0;34m\u001b[0m\u001b[0;34m\u001b[0m\u001b[0m\n\u001b[0;32m--> 120\u001b[0;31m         \u001b[0;32mwith\u001b[0m \u001b[0mopen\u001b[0m\u001b[0;34m(\u001b[0m\u001b[0msrc\u001b[0m\u001b[0;34m,\u001b[0m \u001b[0;34m'rb'\u001b[0m\u001b[0;34m)\u001b[0m \u001b[0;32mas\u001b[0m \u001b[0mfsrc\u001b[0m\u001b[0;34m:\u001b[0m\u001b[0;34m\u001b[0m\u001b[0;34m\u001b[0m\u001b[0m\n\u001b[0m\u001b[1;32m    121\u001b[0m             \u001b[0;32mwith\u001b[0m \u001b[0mopen\u001b[0m\u001b[0;34m(\u001b[0m\u001b[0mdst\u001b[0m\u001b[0;34m,\u001b[0m \u001b[0;34m'wb'\u001b[0m\u001b[0;34m)\u001b[0m \u001b[0;32mas\u001b[0m \u001b[0mfdst\u001b[0m\u001b[0;34m:\u001b[0m\u001b[0;34m\u001b[0m\u001b[0;34m\u001b[0m\u001b[0m\n\u001b[1;32m    122\u001b[0m                 \u001b[0mcopyfileobj\u001b[0m\u001b[0;34m(\u001b[0m\u001b[0mfsrc\u001b[0m\u001b[0;34m,\u001b[0m \u001b[0mfdst\u001b[0m\u001b[0;34m)\u001b[0m\u001b[0;34m\u001b[0m\u001b[0;34m\u001b[0m\u001b[0m\n",
            "\u001b[0;31mFileNotFoundError\u001b[0m: [Errno 2] No such file or directory: 'file1.txt'"
          ]
        }
      ]
    },
    {
      "cell_type": "code",
      "metadata": {
        "id": "THT2tEfeLNFT",
        "outputId": "88253227-f99a-4391-a782-42f629ee0ca4",
        "colab": {
          "base_uri": "https://localhost:8080/",
          "height": 34
        }
      },
      "source": [
        "import glob\n",
        "files = glob.glob(\"file1.txt\") + glob.glob(\"copyfile1.txt\")\n",
        "for file in files:\n",
        "    print(file)"
      ],
      "execution_count": null,
      "outputs": [
        {
          "output_type": "stream",
          "text": [
            "file1.txt\n"
          ],
          "name": "stdout"
        }
      ]
    },
    {
      "cell_type": "code",
      "metadata": {
        "id": "y918o8TGLP6z"
      },
      "source": [
        "content = '''Hello Python\n",
        "中文字測試\n",
        "Welcome\n",
        "'''\n",
        "\n",
        "f = open('file1.txt', mode = 'w', encoding = 'utf-8')\n",
        "f.write(content)\n",
        "f.close()"
      ],
      "execution_count": null,
      "outputs": []
    },
    {
      "cell_type": "code",
      "metadata": {
        "id": "euelY5LyLXLj",
        "outputId": "ea499bb7-1842-4052-f6c3-59d99d8312d7",
        "colab": {
          "base_uri": "https://localhost:8080/",
          "height": 70
        }
      },
      "source": [
        "f=open('file1.txt', mode = 'r', encoding = 'utf-8')\n",
        "for line in f:\n",
        "    print(line, end = \"\")\n",
        "f.close()"
      ],
      "execution_count": null,
      "outputs": [
        {
          "output_type": "stream",
          "text": [
            "Hello Python\n",
            "中文字測試\n",
            "Welcome\n"
          ],
          "name": "stdout"
        }
      ]
    },
    {
      "cell_type": "code",
      "metadata": {
        "id": "mejQc0uILdPj",
        "outputId": "5291482a-4907-452a-907a-bbcb613b4192",
        "colab": {
          "base_uri": "https://localhost:8080/",
          "height": 70
        }
      },
      "source": [
        "with open('file1.txt', mode = 'r', encoding = 'utf-8') as f:\n",
        "    for line in f:\n",
        "        print(line, end = \"\")"
      ],
      "execution_count": null,
      "outputs": [
        {
          "output_type": "stream",
          "text": [
            "Hello Python\n",
            "中文字測試\n",
            "Welcome\n"
          ],
          "name": "stdout"
        }
      ]
    },
    {
      "cell_type": "code",
      "metadata": {
        "id": "uUZRzd5jLiIT",
        "outputId": "e7dadc5a-d1e8-4f88-fd6e-2f9654712a50",
        "colab": {
          "base_uri": "https://localhost:8080/",
          "height": 34
        }
      },
      "source": [
        "f=open('file1.txt', mode = 'r', encoding = 'utf-8')\n",
        "str1 = f.read(5)\n",
        "print(str1)\n",
        "f.close()"
      ],
      "execution_count": null,
      "outputs": [
        {
          "output_type": "stream",
          "text": [
            "Hello\n"
          ],
          "name": "stdout"
        }
      ]
    },
    {
      "cell_type": "code",
      "metadata": {
        "id": "kluDLK1PLk67",
        "outputId": "ad59dc44-165d-4c93-c25c-78ab5795778f",
        "colab": {
          "base_uri": "https://localhost:8080/",
          "height": 52
        }
      },
      "source": [
        "with open('file1.txt', mode = 'r', encoding = 'utf-8') as f:\n",
        "    content = f.readlines()\n",
        "    print(type(content))\n",
        "    print(content)"
      ],
      "execution_count": null,
      "outputs": [
        {
          "output_type": "stream",
          "text": [
            "<class 'list'>\n",
            "['Hello Python\\n', '中文字測試\\n', 'Welcome\\n']\n"
          ],
          "name": "stdout"
        }
      ]
    },
    {
      "cell_type": "code",
      "metadata": {
        "id": "eF5F_rAbLps6",
        "outputId": "189b42f9-e42f-4447-906c-5297e7914c0a",
        "colab": {
          "base_uri": "https://localhost:8080/",
          "height": 70
        }
      },
      "source": [
        "f=open('file1.txt', mode = 'r', encoding = 'utf-8')\n",
        "print(f.readline())\n",
        "print(f.readline(3))\n",
        "f.close()"
      ],
      "execution_count": null,
      "outputs": [
        {
          "output_type": "stream",
          "text": [
            "Hello Python\n",
            "\n",
            "中文字\n"
          ],
          "name": "stdout"
        }
      ]
    }
  ]
}