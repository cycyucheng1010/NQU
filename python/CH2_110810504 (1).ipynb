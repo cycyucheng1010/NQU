{
  "nbformat": 4,
  "nbformat_minor": 0,
  "metadata": {
    "colab": {
      "name": "CH02_110810504.ipynb",
      "provenance": [],
      "collapsed_sections": []
    },
    "kernelspec": {
      "name": "python3",
      "display_name": "Python 3"
    },
    "accelerator": "GPU"
  },
  "cells": [
    {
      "cell_type": "code",
      "metadata": {
        "id": "xVyW1zm8XxsJ",
        "colab_type": "code",
        "colab": {
          "base_uri": "https://localhost:8080/",
          "height": 87
        },
        "outputId": "d9c3d3f0-0acf-4f3a-87ab-9b93f937ae80"
      },
      "source": [
        "print(\"姓名 座號 國文 數學 英文\")\n",
        "print(\"%3s %2d %3d %3d %3d\"%(\"林大明\",1,100,87,79))\n",
        "print(\"%3s %2d %3d %3d %3d\"%(\"陳阿忠\",2,74,88,100))\n",
        "print(\"%3s %2d %3d %3d %3d\"%(\"張小英\",11,82,65,8))"
      ],
      "execution_count": null,
      "outputs": [
        {
          "output_type": "stream",
          "text": [
            "姓名 座號 國文 數學 英文\n",
            "林大明  1 100  87  79\n",
            "陳阿忠  2  74  88 100\n",
            "張小英 11  82  65   8\n"
          ],
          "name": "stdout"
        }
      ]
    },
    {
      "cell_type": "code",
      "metadata": {
        "id": "qJQycqfbmn9F",
        "colab_type": "code",
        "colab": {
          "base_uri": "https://localhost:8080/",
          "height": 87
        },
        "outputId": "96216aae-648e-430d-b4c1-edd36ac2c4fe"
      },
      "source": [
        "chinese = input(\"請輸入國文成績\")\n",
        "math = input(\"請輸入數學成績\")\n",
        "english = input(\"請輸入英文成績\")\n",
        "score = int(chinese)+int(math)+int(english)\n",
        "average=score/3;\n",
        "print(\"總成績為:%d\"%score,\"平均為:%f\"%average)"
      ],
      "execution_count": null,
      "outputs": [
        {
          "output_type": "stream",
          "text": [
            "請輸入國文成績76\n",
            "請輸入數學成績94\n",
            "請輸入英文成績86\n",
            "總成績為:256 平均為:85.333333\n"
          ],
          "name": "stdout"
        }
      ]
    },
    {
      "cell_type": "code",
      "metadata": {
        "id": "r9zFeMgKpigT",
        "colab_type": "code",
        "colab": {
          "base_uri": "https://localhost:8080/",
          "height": 52
        },
        "outputId": "8a11a4e8-251f-4526-833a-2b8aa48071ca"
      },
      "source": [
        "pw = input(\"請輸入密碼:\")\n",
        "if(pw==\"1234\"):\n",
        "    print(\"welcome!\")\n",
        "else:\n",
        "    print(\"get out! \")"
      ],
      "execution_count": null,
      "outputs": [
        {
          "output_type": "stream",
          "text": [
            "請輸入密碼:1234\n",
            "welcome!\n"
          ],
          "name": "stdout"
        }
      ]
    },
    {
      "cell_type": "code",
      "metadata": {
        "id": "NQoddJkkZvC6",
        "colab_type": "code",
        "colab": {
          "base_uri": "https://localhost:8080/",
          "height": 52
        },
        "outputId": "cf0100fe-c9f1-4bbd-d829-577f45f10207"
      },
      "source": [
        "score = int(input(\"請輸入分數\"))\n",
        "if(score>=90 and score<=100):\n",
        "  print(\"優等\")\n",
        "elif(score>=80 and score<=100):\n",
        "  print(\"甲等\")\n",
        "elif(score>=70 and score<=100):\n",
        "  print(\"乙等\")\n",
        "elif(score>=60 and score<=100):\n",
        "  print(\"丙等\")\n",
        "elif(score<=60 and score>=0):\n",
        "  print(\"丁等\")\n",
        "else:\n",
        "  print(\"錯誤\")"
      ],
      "execution_count": 6,
      "outputs": [
        {
          "output_type": "stream",
          "text": [
            "請輸入分數101\n",
            "錯誤\n"
          ],
          "name": "stdout"
        }
      ]
    },
    {
      "cell_type": "code",
      "metadata": {
        "id": "cdz6NicOt7qd",
        "colab_type": "code",
        "colab": {
          "base_uri": "https://localhost:8080/",
          "height": 52
        },
        "outputId": "5ce916f7-cca0-4e6d-9d04-c14a65ef86e5"
      },
      "source": [
        "money = int(input(\"請輸入購買金額\"))\n",
        "if(money>=100000):\n",
        "      price=money*0.8\n",
        "elif(money>=50000):\n",
        "      price=money*0.85\n",
        "elif(money>=30000):\n",
        "      price=money*0.9\n",
        "elif(moeny>=10000):\n",
        "      price=money*0.95\n",
        "print(\"total price:%.2f\"%price)"
      ],
      "execution_count": null,
      "outputs": [
        {
          "output_type": "stream",
          "text": [
            "請輸入購買金額110000\n",
            "total price:88000.00\n"
          ],
          "name": "stdout"
        }
      ]
    }
  ]
}